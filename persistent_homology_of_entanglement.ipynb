{
 "cells": [
  {
   "attachments": {},
   "cell_type": "markdown",
   "metadata": {},
   "source": [
    "# Persistent Homology of Entanglement"
   ]
  },
  {
   "attachments": {},
   "cell_type": "markdown",
   "metadata": {},
   "source": [
    "## Generating a Random State to Analyze\n",
    "\n",
    "The following code defines a function graph_state_circuit that takes an integer num_qubits as input and returns a quantum circuit representing a graph state. The graph state is created using a complete graph with num_qubits nodes. The quantum circuit is initialized with the given qubits, and Hadamard gates are applied to all qubits. Then, for each edge in the complete graph, random controlled unitary gates are applied using the qubits corresponding to the nodes of the edge.\n",
    "\n",
    "Using random controlled unitaries as opposed to CNOT or controlled-Z gates for entangling qubits has several benefits:\n",
    "\n",
    "1. Richer entanglement: Random controlled unitary gates can create a much richer variety of entangled states as they have more degrees of freedom compared to CNOT or controlled-Z gates. This can lead to a more diverse set of entangled states, which can be useful for quantum algorithms that rely on a broad range of entangled states for their operation.\n",
    "\n",
    "2. Exploration of quantum state space: By using random controlled unitaries, you can explore a wider range of quantum states and their properties. This can be useful for studying the behavior of quantum systems and developing new quantum algorithms or protocols.\n",
    "\n",
    "3. Benchmarking: Random controlled unitary gates can be useful for benchmarking and testing the performance of quantum computers. By generating a wide variety of quantum states and operations, you can evaluate the accuracy, fidelity, and robustness of quantum computers under different conditions."
   ]
  },
  {
   "cell_type": "code",
   "execution_count": 1,
   "metadata": {},
   "outputs": [
    {
     "name": "stdout",
     "output_type": "stream",
     "text": [
      "Note: you may need to restart the kernel to use updated packages.\n"
     ]
    }
   ],
   "source": [
    "pip install cirq qiskit gudhi -q"
   ]
  },
  {
   "cell_type": "code",
   "execution_count": 2,
   "metadata": {},
   "outputs": [],
   "source": [
    "import networkx as nx\n",
    "import numpy as np\n",
    "import cirq\n",
    "import numpy as np\n",
    "\n",
    "def graph_state_circuit(num_qubits):\n",
    "    \"\"\"Returns a graph state circuit on num_qubits qubits\"\"\"\n",
    "    # Generate a complete graph with num_qubits nodes\n",
    "    graph = nx.complete_graph(num_qubits)\n",
    "\n",
    "    # Initialize the circuit with the given qubits\n",
    "    qubits = [cirq.LineQubit(i) for i in range(num_qubits)]\n",
    "    circuit = cirq.Circuit()\n",
    "\n",
    "    # Apply Hadamard gates to all qubits\n",
    "    circuit.append(cirq.H.on_each(qubits))\n",
    "\n",
    "    # Apply random controlled unitary gates to each edge\n",
    "    for edge in graph.edges():\n",
    "        control_qubit, target_qubit = qubits[edge[0]], qubits[edge[1]]\n",
    "\n",
    "        # Generate a random unitary matrix\n",
    "        random_unitary = cirq.testing.random_unitary(2)\n",
    "\n",
    "        # Apply the controlled random unitary gate to the circuit\n",
    "        circuit.append(cirq.ControlledGate(cirq.MatrixGate(random_unitary)).on(control_qubit, target_qubit))\n",
    "        \n",
    "    # Define number of qubits in circuit\n",
    "    circuit.num_qubits = len(circuit.all_qubits())\n",
    "\n",
    "    return circuit\n",
    "\n"
   ]
  },
  {
   "cell_type": "code",
   "execution_count": 3,
   "metadata": {},
   "outputs": [
    {
     "data": {
      "text/html": [
       "<pre style=\"overflow: auto; white-space: pre;\">                                                                          ┌──────────────────────────────────────────────────────────┐   ┌──────────────────────────────────────────────────────────┐   ┌──────────────────────────────────────────────────────────┐\n",
       "0: ───H───@───────────────────────────────@────────────────────────────────@──────────────────────────────────────────────────────────────@────────────────────────────────────────────────────────────────────────────────────────────────────────────────────────────────────────────────────────────────────────────────────────────\n",
       "          │                               │                                │                                                              │\n",
       "          ┌                           ┐   │                                │                                                              │\n",
       "1: ───H───│ 0.286+0.366j -0.747+0.476j│───┼────────────────────────────────┼────────────────────────────@─────────────────────────────────┼────────────────────────────@─────────────────────────────────@─────────────────────────────────────────────────────────────────────────────────────────────────────────────────────────────\n",
       "          │ 0.024-0.886j -0.46 -0.057j│   │                                │                            │                                 │                            │                                 │\n",
       "          └                           ┘   │                                │                            │                                 │                            │                                 │\n",
       "                                          │                                │                            │                                 │                            │                                 │\n",
       "                                          ┌                           ┐    │                            ┌                           ┐     │                            │                                 │\n",
       "2: ───H───────────────────────────────────│-0.508-0.683j  0.485+0.203j│────┼────────────────────────────│-0.226-0.489j  0.724-0.43j │─────┼────────────────────────────┼─────────────────────────────────┼────────────────────────────@────────────────────────────────@───────────────────────────────────────────────────────────────\n",
       "                                          │-0.258+0.458j  0.02 +0.851j│    │                            │-0.551+0.637j  0.442+0.309j│     │                            │                                 │                            │                                │\n",
       "                                          └                           ┘    │                            └                           ┘     │                            │                                 │                            │                                │\n",
       "                                                                           │                                                              │                            │                                 │                            │                                │\n",
       "                                                                           ┌                           ┐                                  │                            ┌                           ┐     │                            ┌                           ┐    │\n",
       "3: ───H────────────────────────────────────────────────────────────────────│ 0.645-0.289j -0.698+0.117j│──────────────────────────────────┼────────────────────────────│-0.626-0.497j  0.518+0.304j│─────┼────────────────────────────│ 0.131+0.647j  0.404+0.633j│────┼───────────────────────────────@───────────────────────────────\n",
       "                                                                           │ 0.663+0.247j  0.579+0.406j│                                  │                            │ 0.071+0.596j  0.205+0.773j│     │                            │-0.212-0.72j   0.402+0.524j│    │                               │\n",
       "                                                                           └                           ┘                                  │                            └                           ┘     │                            └                           ┘    │                               │\n",
       "                                                                                                                                          │                                                              │                                                             │                               │\n",
       "                                                                                                                                          ┌                           ┐                                  ┌                           ┐                                 ┌                           ┐   ┌                           ┐\n",
       "4: ───H───────────────────────────────────────────────────────────────────────────────────────────────────────────────────────────────────│-0.415+0.529j  0.121+0.731j│──────────────────────────────────│ 0.068-0.935j -0.263-0.228j│─────────────────────────────────│ 0.802-0.097j  0.405+0.429j│───│-0.514+0.287j  0.417-0.693j│───\n",
       "                                                                                                                                          │ 0.275+0.687j -0.629-0.238j│                                  │-0.229+0.263j -0.198-0.916j│                                 │ 0.577-0.122j -0.604-0.536j│   │ 0.404+0.7j    0.509+0.296j│\n",
       "                                                                                                                                          └                           ┘                                  └                           ┘                                 └                           ┘   └                           ┘\n",
       "                                                                          └──────────────────────────────────────────────────────────┘   └──────────────────────────────────────────────────────────┘   └──────────────────────────────────────────────────────────┘</pre>"
      ],
      "text/plain": [
       "                                                                          ┌──────────────────────────────────────────────────────────┐   ┌──────────────────────────────────────────────────────────┐   ┌──────────────────────────────────────────────────────────┐\n",
       "0: ───H───@───────────────────────────────@────────────────────────────────@──────────────────────────────────────────────────────────────@────────────────────────────────────────────────────────────────────────────────────────────────────────────────────────────────────────────────────────────────────────────────────────────\n",
       "          │                               │                                │                                                              │\n",
       "          ┌                           ┐   │                                │                                                              │\n",
       "1: ───H───│ 0.286+0.366j -0.747+0.476j│───┼────────────────────────────────┼────────────────────────────@─────────────────────────────────┼────────────────────────────@─────────────────────────────────@─────────────────────────────────────────────────────────────────────────────────────────────────────────────────────────────\n",
       "          │ 0.024-0.886j -0.46 -0.057j│   │                                │                            │                                 │                            │                                 │\n",
       "          └                           ┘   │                                │                            │                                 │                            │                                 │\n",
       "                                          │                                │                            │                                 │                            │                                 │\n",
       "                                          ┌                           ┐    │                            ┌                           ┐     │                            │                                 │\n",
       "2: ───H───────────────────────────────────│-0.508-0.683j  0.485+0.203j│────┼────────────────────────────│-0.226-0.489j  0.724-0.43j │─────┼────────────────────────────┼─────────────────────────────────┼────────────────────────────@────────────────────────────────@───────────────────────────────────────────────────────────────\n",
       "                                          │-0.258+0.458j  0.02 +0.851j│    │                            │-0.551+0.637j  0.442+0.309j│     │                            │                                 │                            │                                │\n",
       "                                          └                           ┘    │                            └                           ┘     │                            │                                 │                            │                                │\n",
       "                                                                           │                                                              │                            │                                 │                            │                                │\n",
       "                                                                           ┌                           ┐                                  │                            ┌                           ┐     │                            ┌                           ┐    │\n",
       "3: ───H────────────────────────────────────────────────────────────────────│ 0.645-0.289j -0.698+0.117j│──────────────────────────────────┼────────────────────────────│-0.626-0.497j  0.518+0.304j│─────┼────────────────────────────│ 0.131+0.647j  0.404+0.633j│────┼───────────────────────────────@───────────────────────────────\n",
       "                                                                           │ 0.663+0.247j  0.579+0.406j│                                  │                            │ 0.071+0.596j  0.205+0.773j│     │                            │-0.212-0.72j   0.402+0.524j│    │                               │\n",
       "                                                                           └                           ┘                                  │                            └                           ┘     │                            └                           ┘    │                               │\n",
       "                                                                                                                                          │                                                              │                                                             │                               │\n",
       "                                                                                                                                          ┌                           ┐                                  ┌                           ┐                                 ┌                           ┐   ┌                           ┐\n",
       "4: ───H───────────────────────────────────────────────────────────────────────────────────────────────────────────────────────────────────│-0.415+0.529j  0.121+0.731j│──────────────────────────────────│ 0.068-0.935j -0.263-0.228j│─────────────────────────────────│ 0.802-0.097j  0.405+0.429j│───│-0.514+0.287j  0.417-0.693j│───\n",
       "                                                                                                                                          │ 0.275+0.687j -0.629-0.238j│                                  │-0.229+0.263j -0.198-0.916j│                                 │ 0.577-0.122j -0.604-0.536j│   │ 0.404+0.7j    0.509+0.296j│\n",
       "                                                                                                                                          └                           ┘                                  └                           ┘                                 └                           ┘   └                           ┘\n",
       "                                                                          └──────────────────────────────────────────────────────────┘   └──────────────────────────────────────────────────────────┘   └──────────────────────────────────────────────────────────┘"
      ]
     },
     "execution_count": 3,
     "metadata": {},
     "output_type": "execute_result"
    }
   ],
   "source": [
    "num_qubits = 5\n",
    "circuit = graph_state_circuit(num_qubits)\n",
    "circuit"
   ]
  },
  {
   "attachments": {},
   "cell_type": "markdown",
   "metadata": {},
   "source": [
    "## Partition the Circuit by Time Steps (Moments)"
   ]
  },
  {
   "cell_type": "code",
   "execution_count": 4,
   "metadata": {},
   "outputs": [],
   "source": [
    "import cirq\n",
    "\n",
    "def partition_circuit_by_moments(circuit):\n",
    "    moments = list(circuit)\n",
    "    simulator = cirq.Simulator()\n",
    "\n",
    "    state_vectors = []\n",
    "    current_state = simulator.simulate(circuit)\n",
    "    state_vectors.append(current_state.final_state_vector)\n",
    "\n",
    "    for i in range(1, len(moments)):\n",
    "        moment = moments[:i+1]\n",
    "        partial_circuit = cirq.Circuit(moment)\n",
    "        current_state = simulator.simulate(partial_circuit)\n",
    "        state_vectors.append(current_state.final_state_vector)\n",
    "\n",
    "    return state_vectors"
   ]
  },
  {
   "cell_type": "code",
   "execution_count": 5,
   "metadata": {},
   "outputs": [
    {
     "data": {
      "text/plain": [
       "[array([ 0.17677668+0.j        ,  0.17677668+0.j        ,\n",
       "        -0.01719587-0.07181169j,  0.16126888+0.17618093j,\n",
       "         0.03938785+0.30444252j,  0.14631858-0.06844391j,\n",
       "        -0.04250609+0.03837486j,  0.03676162+0.0062297j ,\n",
       "         0.00860933+0.04753174j,  0.0178386 +0.0265326j ,\n",
       "        -0.0915349 +0.1245842j ,  0.25652847-0.20872283j,\n",
       "        -0.14807451+0.14655069j,  0.02950632+0.04383285j,\n",
       "         0.08258665-0.15058093j, -0.19409321-0.00315536j,\n",
       "         0.01759285+0.00713774j,  0.00571409+0.00614757j,\n",
       "         0.02458704-0.02448216j, -0.12831968-0.09239849j,\n",
       "         0.16744603+0.20498627j,  0.18414691-0.01555038j,\n",
       "        -0.04873379-0.19637838j, -0.01386132+0.24163496j,\n",
       "         0.19606489+0.20283082j,  0.05158753+0.00144885j,\n",
       "        -0.07831102-0.16334718j, -0.18051624+0.20074666j,\n",
       "        -0.2152036 +0.13799557j, -0.09269729+0.08292794j,\n",
       "         0.00426714+0.0089589j ,  0.00603585-0.02697507j], dtype=complex64),\n",
       " array([ 0.17677668+0.j        ,  0.17677668+0.j        ,\n",
       "         0.17677668+0.j        ,  0.17677668+0.j        ,\n",
       "         0.17677668+0.j        ,  0.17677668+0.j        ,\n",
       "         0.17677668+0.j        ,  0.17677668+0.j        ,\n",
       "         0.17677668+0.j        ,  0.17677668+0.j        ,\n",
       "         0.17677668+0.j        ,  0.17677668+0.j        ,\n",
       "         0.17677668+0.j        ,  0.17677668+0.j        ,\n",
       "         0.17677668+0.j        ,  0.17677668+0.j        ,\n",
       "        -0.08155274+0.1488119j , -0.08155274+0.1488119j ,\n",
       "        -0.08155274+0.1488119j , -0.08155274+0.1488119j ,\n",
       "        -0.08155274+0.1488119j , -0.08155274+0.1488119j ,\n",
       "        -0.08155274+0.1488119j , -0.08155274+0.1488119j ,\n",
       "        -0.07717353-0.16657849j, -0.07717353-0.16657849j,\n",
       "        -0.07717353-0.16657849j, -0.07717353-0.16657849j,\n",
       "        -0.07717353-0.16657849j, -0.07717353-0.16657849j,\n",
       "        -0.07717353-0.16657849j, -0.07717353-0.16657849j], dtype=complex64),\n",
       " array([ 0.17677668+0.j        ,  0.17677668+0.j        ,\n",
       "         0.17677668+0.j        ,  0.17677668+0.j        ,\n",
       "         0.17677668+0.j        ,  0.17677668+0.j        ,\n",
       "         0.17677668+0.j        ,  0.17677668+0.j        ,\n",
       "         0.17677668+0.j        ,  0.17677668+0.j        ,\n",
       "         0.17677668+0.j        ,  0.17677668+0.j        ,\n",
       "         0.17677668+0.j        ,  0.17677668+0.j        ,\n",
       "         0.17677668+0.j        ,  0.17677668+0.j        ,\n",
       "         0.07333379+0.03580097j,  0.07333379+0.03580097j,\n",
       "         0.07333379+0.03580097j,  0.07333379+0.03580097j,\n",
       "        -0.1753487 -0.14207378j, -0.1753487 -0.14207378j,\n",
       "        -0.1753487 -0.14207378j, -0.1753487 -0.14207378j,\n",
       "        -0.07826908+0.04084898j, -0.07826908+0.04084898j,\n",
       "        -0.07826908+0.04084898j, -0.07826908+0.04084898j,\n",
       "         0.23631148-0.06140433j,  0.23631148-0.06140433j,\n",
       "         0.23631148-0.06140433j,  0.23631148-0.06140433j], dtype=complex64),\n",
       " array([ 0.17677668+0.j        ,  0.17677668+0.j        ,\n",
       "         0.17677668+0.j        ,  0.17677668+0.j        ,\n",
       "         0.17677668+0.j        ,  0.17677668+0.j        ,\n",
       "         0.17677668+0.j        ,  0.17677668+0.j        ,\n",
       "         0.08810443-0.16246381j,  0.08810443-0.16246381j,\n",
       "         0.08810443-0.16246381j,  0.08810443-0.16246381j,\n",
       "        -0.01937652+0.16723531j, -0.01937652+0.16723531j,\n",
       "        -0.01937652+0.16723531j, -0.01937652+0.16723531j,\n",
       "         0.0022824 -0.01449966j,  0.0022824 -0.01449966j,\n",
       "         0.06769294+0.09231102j,  0.06769294+0.09231102j,\n",
       "        -0.01516675+0.03765265j, -0.01516675+0.03765265j,\n",
       "        -0.12500837-0.29084256j, -0.12500837-0.29084256j,\n",
       "        -0.02975288-0.02519654j, -0.02975288-0.02519654j,\n",
       "         0.30293134-0.02617663j,  0.30293134-0.02617663j,\n",
       "        -0.01196633-0.02274854j, -0.01196633-0.02274854j,\n",
       "         0.19164127+0.0587947j ,  0.19164127+0.0587947j ], dtype=complex64),\n",
       " array([ 0.17677668+0.j        ,  0.17677668+0.j        ,\n",
       "         0.17677668+0.j        ,  0.17677668+0.j        ,\n",
       "         0.17677668+0.j        ,  0.17677668+0.j        ,\n",
       "         0.17677668+0.j        ,  0.17677668+0.j        ,\n",
       "        -0.04095726+0.00054207j, -0.04095726+0.00054207j,\n",
       "         0.24675736+0.07580754j,  0.24675736+0.07580754j,\n",
       "         0.03444213-0.01435118j,  0.03444213-0.01435118j,\n",
       "        -0.23432744+0.01961228j, -0.23432744+0.01961228j,\n",
       "         0.01759285+0.00713774j,  0.00571409+0.00614757j,\n",
       "        -0.13617685+0.0581275j , -0.06541938-0.00216363j,\n",
       "        -0.04296856-0.0301738j , -0.01157485-0.02011896j,\n",
       "         0.40309876-0.07195523j,  0.17493883+0.04651046j,\n",
       "        -0.18764813+0.18326998j, -0.10942854+0.0383516j ,\n",
       "        -0.2915615 +0.0584145j , -0.12772371-0.03108937j,\n",
       "        -0.1599577 +0.0656988j , -0.07636158-0.00357494j,\n",
       "        -0.19265081-0.03628081j, -0.07039966-0.05054053j], dtype=complex64),\n",
       " array([ 0.17677668+0.j        ,  0.17677668+0.j        ,\n",
       "         0.17677668+0.j        ,  0.17677668+0.j        ,\n",
       "         0.0947233 +0.22625798j,  0.0947233 +0.22625798j,\n",
       "         0.03359754-0.03472776j,  0.03359754-0.03472776j,\n",
       "         0.00860933+0.04753174j,  0.0178386 +0.0265326j ,\n",
       "         0.04010109-0.30177122j, -0.0558017 -0.19360822j,\n",
       "        -0.12130035+0.1319437j , -0.03851505+0.11219972j,\n",
       "        -0.13514338+0.16867033j, -0.03715776+0.13814193j,\n",
       "         0.01759285+0.00713774j,  0.00571409+0.00614757j,\n",
       "        -0.13617685+0.0581275j , -0.06541938-0.00216363j,\n",
       "         0.22241886+0.19417292j,  0.05281609+0.11935928j,\n",
       "         0.18714477+0.2196053j ,  0.03393127+0.12295551j,\n",
       "         0.19606489+0.20283082j,  0.05158753+0.00144885j,\n",
       "         0.06120732+0.31389648j,  0.04815633+0.03322488j,\n",
       "        -0.24958333+0.12615854j, -0.01650542+0.04842477j,\n",
       "        -0.01516788-0.02458779j, -0.00512886-0.00127564j], dtype=complex64),\n",
       " array([ 0.17677668+0.j        ,  0.17677668+0.j        ,\n",
       "         0.17677668+0.j        ,  0.17677668+0.j        ,\n",
       "         0.03938785+0.30444252j,  0.14631858-0.06844391j,\n",
       "         0.05205037-0.03078592j, -0.02375915-0.02116869j,\n",
       "         0.00860933+0.04753174j,  0.0178386 +0.0265326j ,\n",
       "         0.04010109-0.30177122j, -0.0558017 -0.19360822j,\n",
       "        -0.14807451+0.14655069j,  0.02950632+0.04383285j,\n",
       "        -0.16616085+0.18843515j,  0.03908646+0.05032212j,\n",
       "         0.01759285+0.00713774j,  0.00571409+0.00614757j,\n",
       "        -0.13617685+0.0581275j , -0.06541938-0.00216363j,\n",
       "         0.16744603+0.20498627j,  0.18414691-0.01555038j,\n",
       "         0.13245408+0.22217159j,  0.18023624+0.01138604j,\n",
       "         0.19606489+0.20283082j,  0.05158753+0.00144885j,\n",
       "         0.06120732+0.31389648j,  0.04815633+0.03322488j,\n",
       "        -0.2152036 +0.13799557j, -0.09269729+0.08292794j,\n",
       "        -0.01608578-0.02094546j, -0.00934648-0.00881677j], dtype=complex64),\n",
       " array([ 0.17677668+0.j        ,  0.17677668+0.j        ,\n",
       "        -0.01719587-0.07181169j,  0.16126888+0.17618093j,\n",
       "         0.03938785+0.30444252j,  0.14631858-0.06844391j,\n",
       "        -0.04250609+0.03837486j,  0.03676162+0.0062297j ,\n",
       "         0.00860933+0.04753174j,  0.0178386 +0.0265326j ,\n",
       "        -0.0915349 +0.1245842j ,  0.25652847-0.20872283j,\n",
       "        -0.14807451+0.14655069j,  0.02950632+0.04383285j,\n",
       "         0.08258665-0.15058093j, -0.19409321-0.00315536j,\n",
       "         0.01759285+0.00713774j,  0.00571409+0.00614757j,\n",
       "         0.02458704-0.02448216j, -0.12831968-0.09239849j,\n",
       "         0.16744603+0.20498627j,  0.18414691-0.01555038j,\n",
       "        -0.04873379-0.19637838j, -0.01386132+0.24163496j,\n",
       "         0.19606489+0.20283082j,  0.05158753+0.00144885j,\n",
       "        -0.07831102-0.16334718j, -0.18051624+0.20074666j,\n",
       "        -0.2152036 +0.13799557j, -0.09269729+0.08292794j,\n",
       "         0.00426714+0.0089589j ,  0.00603585-0.02697507j], dtype=complex64)]"
      ]
     },
     "execution_count": 5,
     "metadata": {},
     "output_type": "execute_result"
    }
   ],
   "source": [
    "partition_circuit_by_moments(circuit)"
   ]
  },
  {
   "attachments": {},
   "cell_type": "markdown",
   "metadata": {},
   "source": [
    "Now, let's pick a single density matrix to run persistent homology analysis on, say the final one of the fully entangled system. In reality we would run the persistent homology analysis at each time step to obtain a bifiltration (on time parameter and one QMI parameter). "
   ]
  },
  {
   "cell_type": "code",
   "execution_count": 6,
   "metadata": {},
   "outputs": [
    {
     "data": {
      "text/plain": [
       "((32, 32),\n",
       " array([[ 3.1249994e-02+0.j        ,  3.1249994e-02+0.j        ,\n",
       "         -3.0398292e-03+0.01269463j, ..., -1.6386719e-02-0.01465973j,\n",
       "          7.5433037e-04-0.00158372j,  1.0669976e-03+0.00476856j],\n",
       "        [ 3.1249994e-02+0.j        ,  3.1249994e-02+0.j        ,\n",
       "         -3.0398292e-03+0.01269463j, ..., -1.6386719e-02-0.01465973j,\n",
       "          7.5433037e-04-0.00158372j,  1.0669976e-03+0.00476856j],\n",
       "        [-3.0398292e-03-0.01269463j, -3.0398292e-03-0.01269463j,\n",
       "          5.4526171e-03+0.j        , ..., -4.3611852e-03+0.00808277j,\n",
       "         -7.1673095e-04-0.00015237j,  1.8333340e-03-0.0008973j ],\n",
       "        ...,\n",
       "        [-1.6386719e-02+0.01465973j, -1.6386719e-02+0.01465973j,\n",
       "         -4.3611852e-03-0.00808277j, ...,  1.5469832e-02+0.j        ,\n",
       "          3.4739106e-04+0.00118433j, -2.7964944e-03-0.00199998j],\n",
       "        [ 7.5433037e-04+0.00158372j,  7.5433037e-04+0.00158372j,\n",
       "         -7.1673095e-04+0.00015237j, ...,  3.4739106e-04-0.00118433j,\n",
       "          9.8470358e-05+0.j        , -2.1591119e-04+0.00016918j],\n",
       "        [ 1.0669976e-03-0.00476856j,  1.0669976e-03-0.00476856j,\n",
       "          1.8333340e-03+0.0008973j , ..., -2.7964944e-03+0.00199998j,\n",
       "         -2.1591119e-04-0.00016918j,  7.6408614e-04+0.j        ]],\n",
       "       dtype=complex64))"
      ]
     },
     "execution_count": 6,
     "metadata": {},
     "output_type": "execute_result"
    }
   ],
   "source": [
    "rho = cirq.final_density_matrix(circuit)\n",
    "rho.shape, rho"
   ]
  },
  {
   "cell_type": "code",
   "execution_count": 7,
   "metadata": {},
   "outputs": [],
   "source": [
    "import numpy as np\n",
    "from qiskit.quantum_info import partial_trace, entropy\n",
    "\n",
    "def compute_inverse_mutual_information(rho):\n",
    "    \"\"\"\n",
    "    Computes the inverse quantum mutual information for every pair of qubits in the input density matrix.\n",
    "\n",
    "    Args:\n",
    "        rho (numpy.ndarray): a 2^n x 2^n density matrix representing the state of n qubits.\n",
    "\n",
    "    Returns:\n",
    "        numpy.ndarray: an n x n matrix of inverse quantum mutual information values, where element i,j gives the inverse\n",
    "        mutual information between qubits i and j.\n",
    "    \"\"\"\n",
    "    # Determine the number of qubits n from the shape of rho.\n",
    "    n = int(np.log2(rho.shape[0]))\n",
    "\n",
    "    # Create an empty n x n matrix to store the inverse mutual information.\n",
    "    inverse_mutual_information_matrix = np.zeros((n, n))\n",
    "\n",
    "    # Loop over all pairs of qubits (i, j).\n",
    "    for i in range(n):\n",
    "        for j in range(i+1, n):\n",
    "\n",
    "            # Define the indices of the qubits to trace out.\n",
    "            trace_indices = [k for k in range(n) if k != i and k != j]\n",
    "\n",
    "            # Trace out the other qubits to obtain the reduced density matrix of qubits i and j.\n",
    "            rho_ij = partial_trace(rho, trace_indices)\n",
    "\n",
    "            # Compute the von Neumann entropy of the reduced density matrix of qubit i.\n",
    "            entropy_i = entropy(partial_trace(rho_ij, [1]))\n",
    "\n",
    "            # Compute the von Neumann entropy of the reduced density matrix of qubit j.\n",
    "            entropy_j = entropy(partial_trace(rho_ij, [0]))\n",
    "\n",
    "            # Compute the mutual information between qubits i and j.\n",
    "            qmi = entropy_i + entropy_j - entropy(rho_ij)\n",
    "\n",
    "            # Compute the inverse mutual information between qubits i and j.\n",
    "            inverse_mutual_information_matrix[i, j] = 2 * np.log(2) - qmi\n",
    "\n",
    "    # Copy the upper triangular part of the matrix to the lower triangular part.\n",
    "    inverse_mutual_information_matrix += inverse_mutual_information_matrix.T - np.diag(inverse_mutual_information_matrix.diagonal())\n",
    "\n",
    "    return inverse_mutual_information_matrix\n",
    "\n"
   ]
  },
  {
   "attachments": {},
   "cell_type": "markdown",
   "metadata": {},
   "source": [
    "From each time step, we obtain a distance matrix given by the QMI between each pair of qubits. "
   ]
  },
  {
   "cell_type": "code",
   "execution_count": 8,
   "metadata": {},
   "outputs": [
    {
     "data": {
      "text/plain": [
       "array([[0.        , 0.78807745, 1.02891902, 1.14260209, 1.10831325],\n",
       "       [0.78807745, 0.        , 1.05913347, 1.02872375, 0.91603157],\n",
       "       [1.02891902, 1.05913347, 0.        , 0.74970747, 0.84043565],\n",
       "       [1.14260209, 1.02872375, 0.74970747, 0.        , 0.86097188],\n",
       "       [1.10831325, 0.91603157, 0.84043565, 0.86097188, 0.        ]])"
      ]
     },
     "execution_count": 8,
     "metadata": {},
     "output_type": "execute_result"
    }
   ],
   "source": [
    "qmi_distance_matrix = compute_inverse_mutual_information(rho)\n",
    "qmi_distance_matrix"
   ]
  },
  {
   "attachments": {},
   "cell_type": "markdown",
   "metadata": {},
   "source": [
    "## Persistent Homology Using Quantum Mutual Information\n",
    "\n",
    "Quantum mutual information provides us with a distance metric which can be used to compute the persistent homology of quantum systems at arbitrary time steps. This filters a quantum circuit such as the one we have constructed in two ways. One filtration paramter is of course the quantum mutual information calculated between each pair of qubits. The second is the time parameter. Since the circuit is natrually divided into time steps, or moments, we can use this second parameter to construct a bifiltration of the quantum system. For bifiltrations and $2$-parameter persistent homology we can use [Rivet](https://rivet.readthedocs.io/en/latest/about.html). However, because the filtration into time steps is discretized already, we can simply apply one-parameter persistence to each time step to obtain the two-parameter persistent homology. "
   ]
  },
  {
   "cell_type": "code",
   "execution_count": 9,
   "metadata": {},
   "outputs": [],
   "source": [
    "import gudhi as gd\n",
    "\n",
    "def persistent_homology(qmi_distance_matrix, dimension=1):\n",
    "    \"\"\"\n",
    "    Computes the persistent homology for the QMI distance matrix.\n",
    "\n",
    "    Args:\n",
    "        qmi_distance_matrix (numpy.ndarray): An n x n QMI distance matrix.\n",
    "        dimension (int): The maximum dimension for the simplices to compute persistent homology. Default is 1.\n",
    "\n",
    "    Returns:\n",
    "        list: A list of tuples representing the persistent homology. Each tuple contains two elements: the first\n",
    "        element is the dimension of the feature, and the second element is a tuple representing the birth and death\n",
    "        of the feature.\n",
    "    \"\"\"\n",
    "    # Create a Rips complex from the QMI distance matrix\n",
    "    rips_complex = gd.RipsComplex(distance_matrix=qmi_distance_matrix, max_edge_length=np.inf)\n",
    "\n",
    "    # Create a simplex tree from the Rips complex\n",
    "    simplex_tree = rips_complex.create_simplex_tree(max_dimension=dimension)\n",
    "\n",
    "    # Compute the persistent homology\n",
    "    persistence = simplex_tree.persistence()\n",
    "\n",
    "    return persistence\n"
   ]
  },
  {
   "cell_type": "code",
   "execution_count": 10,
   "metadata": {},
   "outputs": [
    {
     "data": {
      "text/plain": [
       "[(0, (0.0, inf)),\n",
       " (0, (0.0, 0.9160315682072138)),\n",
       " (0, (0.0, 0.8404356502140578)),\n",
       " (0, (0.0, 0.7880774527006433)),\n",
       " (0, (0.0, 0.7497074667846957))]"
      ]
     },
     "execution_count": 10,
     "metadata": {},
     "output_type": "execute_result"
    }
   ],
   "source": [
    "persistence = persistent_homology(qmi_distance_matrix)\n",
    "persistence"
   ]
  },
  {
   "cell_type": "code",
   "execution_count": 11,
   "metadata": {},
   "outputs": [],
   "source": [
    "import matplotlib.pyplot as plt\n",
    "\n",
    "def plot_persistence_diagram(persistence):\n",
    "    \"\"\"\n",
    "    Plots the persistence diagram for the given persistent homology.\n",
    "\n",
    "    Args:\n",
    "        persistence (list): A list of tuples representing the persistent homology.\n",
    "    \"\"\"\n",
    "    gd.plot_persistence_diagram(persistence)\n",
    "    plt.show()\n"
   ]
  },
  {
   "cell_type": "code",
   "execution_count": 12,
   "metadata": {},
   "outputs": [
    {
     "data": {
      "image/png": "[encoded data removed]",
      "text/plain": [
       "<Figure size 640x480 with 1 Axes>"
      ]
     },
     "metadata": {},
     "output_type": "display_data"
    }
   ],
   "source": [
    "plot_persistence_diagram(persistence)"
   ]
  },
  {
   "attachments": {},
   "cell_type": "markdown",
   "metadata": {},
   "source": [
    "## A Version for Qiskit Only"
   ]
  },
  {
   "cell_type": "code",
   "execution_count": 13,
   "metadata": {},
   "outputs": [],
   "source": [
    "import networkx as nx\n",
    "import numpy as np\n",
    "from qiskit import QuantumCircuit, QuantumRegister\n",
    "from qiskit.extensions import UnitaryGate\n",
    "from qiskit.quantum_info.random import random_unitary\n",
    "\n",
    "def qiskit_graph_state_circuit(num_qubits):\n",
    "    \"\"\"Returns a graph state circuit on num_qubits qubits\"\"\"\n",
    "    # Generate a random graph with num_qubits nodes\n",
    "    graph = nx.complete_graph(num_qubits)\n",
    "\n",
    "    # Initialize the circuit with the given qubits\n",
    "    qubits = QuantumRegister(num_qubits)\n",
    "    circuit = QuantumCircuit(qubits)\n",
    "\n",
    "    # Apply Hadamard gates to all qubits\n",
    "    circuit.h(qubits)\n",
    "\n",
    "    # Apply random controlled unitary gates to each edge\n",
    "    for edge in graph.edges():\n",
    "        control_qubit, target_qubit = qubits[edge[0]], qubits[edge[1]]\n",
    "\n",
    "        # Generate a random unitary matrix\n",
    "        random_unitary_matrix = random_unitary(2).data\n",
    "\n",
    "        # Apply the controlled random unitary gate to the circuit\n",
    "        controlled_unitary_gate = UnitaryGate(random_unitary_matrix).control()\n",
    "        circuit.append(controlled_unitary_gate, [control_qubit, target_qubit])\n",
    "\n",
    "    # Define number of qubits in circuit\n",
    "    # circuit.num_qubits = len(circuit.qubits)\n",
    "\n",
    "    return circuit"
   ]
  },
  {
   "cell_type": "code",
   "execution_count": 14,
   "metadata": {},
   "outputs": [
    {
     "data": {
      "text/html": [
       "<pre style=\"word-wrap: normal;white-space: pre;background: #fff0;line-height: 1.1;font-family: &quot;Courier New&quot;,Courier,monospace\">      ┌───┐                                                                  \n",
       "q0_0: ┤ H ├─────■──────────■──────────■──────────────────────────────────────\n",
       "      ├───┤┌────┴────┐     │          │                                      \n",
       "q0_1: ┤ H ├┤ Unitary ├─────┼──────────┼──────────■──────────■────────────────\n",
       "      ├───┤└─────────┘┌────┴────┐     │     ┌────┴────┐     │                \n",
       "q0_2: ┤ H ├───────────┤ Unitary ├─────┼─────┤ Unitary ├─────┼──────────■─────\n",
       "      ├───┤           └─────────┘┌────┴────┐└─────────┘┌────┴────┐┌────┴────┐\n",
       "q0_3: ┤ H ├──────────────────────┤ Unitary ├───────────┤ Unitary ├┤ Unitary ├\n",
       "      └───┘                      └─────────┘           └─────────┘└─────────┘</pre>"
      ],
      "text/plain": [
       "      ┌───┐                                                                  \n",
       "q0_0: ┤ H ├─────■──────────■──────────■──────────────────────────────────────\n",
       "      ├───┤┌────┴────┐     │          │                                      \n",
       "q0_1: ┤ H ├┤ Unitary ├─────┼──────────┼──────────■──────────■────────────────\n",
       "      ├───┤└─────────┘┌────┴────┐     │     ┌────┴────┐     │                \n",
       "q0_2: ┤ H ├───────────┤ Unitary ├─────┼─────┤ Unitary ├─────┼──────────■─────\n",
       "      ├───┤           └─────────┘┌────┴────┐└─────────┘┌────┴────┐┌────┴────┐\n",
       "q0_3: ┤ H ├──────────────────────┤ Unitary ├───────────┤ Unitary ├┤ Unitary ├\n",
       "      └───┘                      └─────────┘           └─────────┘└─────────┘"
      ]
     },
     "execution_count": 14,
     "metadata": {},
     "output_type": "execute_result"
    }
   ],
   "source": [
    "num_qubits = 4\n",
    "circuit2 = qiskit_graph_state_circuit(num_qubits)\n",
    "circuit2.draw()"
   ]
  },
  {
   "cell_type": "code",
   "execution_count": 15,
   "metadata": {},
   "outputs": [
    {
     "name": "stdout",
     "output_type": "stream",
     "text": [
      "{(0, 1): 1.0923592883636215, (0, 2): 1.005621640552336, (0, 3): 0.9989473655351426, (1, 2): 1.091354070293765, (1, 3): 1.0624931685146983, (2, 3): 1.1000974432793191}\n"
     ]
    }
   ],
   "source": [
    "import numpy as np\n",
    "from qiskit import QuantumCircuit, Aer, transpile\n",
    "from qiskit.quantum_info import DensityMatrix, partial_trace, entropy, state_fidelity\n",
    "\n",
    "def quantum_mutual_information(rho, qubits):\n",
    "    qubit_a, qubit_b = qubits\n",
    "    rho_ab = partial_trace(rho, [k for k in range(rho.num_qubits) if k not in qubits])\n",
    "    rho_a = partial_trace(rho_ab, [1])\n",
    "    rho_b = partial_trace(rho_ab, [0])\n",
    "    return entropy(rho_a) + entropy(rho_b) - entropy(rho_ab)\n",
    "\n",
    "def inverse_quantum_mutual_information(rho, qubits):\n",
    "    qmi = quantum_mutual_information(rho, qubits)\n",
    "    return 2 * np.log(2) - qmi\n",
    "\n",
    "def compute_pairwise_inverse_qmi(circuit):\n",
    "    backend = Aer.get_backend('statevector_simulator')\n",
    "    transpiled_circuit = transpile(circuit, backend)\n",
    "    result = backend.run(transpiled_circuit).result()\n",
    "    statevector = result.get_statevector()\n",
    "    rho = DensityMatrix(statevector)\n",
    "\n",
    "    n_qubits = circuit.num_qubits\n",
    "    qubit_pairs = [(i, j) for i in range(n_qubits) for j in range(i + 1, n_qubits)]\n",
    "\n",
    "    pairwise_inverse_qmi = {}\n",
    "    for pair in qubit_pairs:\n",
    "        pairwise_inverse_qmi[pair] = inverse_quantum_mutual_information(rho, pair)\n",
    "\n",
    "    return pairwise_inverse_qmi\n",
    "\n",
    "# Compute pairwise inverse quantum mutual information\n",
    "pairwise_inverse_qmi = compute_pairwise_inverse_qmi(circuit2)\n",
    "print(pairwise_inverse_qmi)\n"
   ]
  },
  {
   "cell_type": "code",
   "execution_count": 16,
   "metadata": {},
   "outputs": [
    {
     "data": {
      "image/png": "[encoded data removed]",
      "text/plain": [
       "<Figure size 640x480 with 1 Axes>"
      ]
     },
     "metadata": {},
     "output_type": "display_data"
    }
   ],
   "source": [
    "import numpy as np\n",
    "import gudhi as gd\n",
    "import matplotlib.pyplot as plt\n",
    "\n",
    "def pairwise_inverse_qmi_matrix(pairwise_inverse_qmi, n_qubits):\n",
    "    matrix = np.zeros((n_qubits, n_qubits))\n",
    "    for (i, j), value in pairwise_inverse_qmi.items():\n",
    "        matrix[i, j] = value\n",
    "        matrix[j, i] = value\n",
    "    return matrix\n",
    "\n",
    "def compute_persistent_homology(pairwise_inverse_qmi_matrix):\n",
    "    # Create a Rips complex using the distance matrix\n",
    "    rips_complex = gd.RipsComplex(distance_matrix=pairwise_inverse_qmi_matrix, max_edge_length=np.inf)\n",
    "\n",
    "    # Create a simplex tree and compute the persistent homology\n",
    "    simplex_tree = rips_complex.create_simplex_tree(max_dimension=2)\n",
    "    persistence = simplex_tree.persistence()\n",
    "\n",
    "    return persistence\n",
    "\n",
    "def plot_persistence_diagram(persistence):\n",
    "    gd.plot_persistence_diagram(persistence)\n",
    "    plt.show()\n",
    "\n",
    "# Compute pairwise inverse quantum mutual information matrix\n",
    "n_qubits = circuit.num_qubits\n",
    "pairwise_inverse_qmi_matrix = pairwise_inverse_qmi_matrix(pairwise_inverse_qmi, n_qubits)\n",
    "\n",
    "# Compute persistent homology\n",
    "persistence = compute_persistent_homology(pairwise_inverse_qmi_matrix)\n",
    "\n",
    "# Plot the persistence diagram\n",
    "plot_persistence_diagram(persistence)\n"
   ]
  },
  {
   "attachments": {},
   "cell_type": "markdown",
   "metadata": {},
   "source": [
    "## Comparing Persistent Homology\n",
    "\n",
    "Suppose we would like to use persistent homology to compare the entanglement structure of two different systems. We can use the Wasserstein or Bottleneck distances in order to do so. So, for example, we can observe how much the persistent homology changes from one time step to another, providing insight into what time steps introduct significant topological features. For example, suppose one of the entangling gates introduced significantly more entanglement than the others. This would result in a QMI outlier that would result in an edge that persists for longer than other edges in the simplicial complex. We can view this in the interaction graph (with edges colored by how strong the QMI is) or in the simplicial complexes and their corresponding persistence diagrams. Comparing this time step with others results in a larger Wasserstein or Bottleneck distance between the current time step and the previous time step. "
   ]
  },
  {
   "cell_type": "code",
   "execution_count": null,
   "metadata": {},
   "outputs": [],
   "source": []
  }
 ],
 "metadata": {
  "kernelspec": {
   "display_name": "base",
   "language": "python",
   "name": "python3"
  },
  "language_info": {
   "codemirror_mode": {
    "name": "ipython",
    "version": 3
   },
   "file_extension": ".py",
   "mimetype": "text/x-python",
   "name": "python",
   "nbconvert_exporter": "python",
   "pygments_lexer": "ipython3",
   "version": "3.10.9"
  },
  "orig_nbformat": 4
 },
 "nbformat": 4,
 "nbformat_minor": 2
}
