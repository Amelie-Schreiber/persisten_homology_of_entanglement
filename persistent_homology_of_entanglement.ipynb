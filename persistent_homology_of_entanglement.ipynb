{
 "cells": [
  {
   "attachments": {},
   "cell_type": "markdown",
   "metadata": {},
   "source": [
    "# Persistent Homology of Entanglement"
   ]
  },
  {
   "attachments": {},
   "cell_type": "markdown",
   "metadata": {},
   "source": [
    "## Generating a Random State to Analyze\n",
    "\n",
    "The following code defines a function graph_state_circuit that takes an integer num_qubits as input and returns a quantum circuit representing a graph state. The graph state is created using a complete graph with num_qubits nodes. The quantum circuit is initialized with the given qubits, and Hadamard gates are applied to all qubits. Then, for each edge in the complete graph, random controlled unitary gates are applied using the qubits corresponding to the nodes of the edge.\n",
    "\n",
    "Using random controlled unitaries as opposed to CNOT or controlled-Z gates for entangling qubits has several benefits:\n",
    "\n",
    "1. Richer entanglement: Random controlled unitary gates can create a much richer variety of entangled states as they have more degrees of freedom compared to CNOT or controlled-Z gates. This can lead to a more diverse set of entangled states, which can be useful for quantum algorithms that rely on a broad range of entangled states for their operation.\n",
    "\n",
    "2. Exploration of quantum state space: By using random controlled unitaries, you can explore a wider range of quantum states and their properties. This can be useful for studying the behavior of quantum systems and developing new quantum algorithms or protocols.\n",
    "\n",
    "3. Benchmarking: Random controlled unitary gates can be useful for benchmarking and testing the performance of quantum computers. By generating a wide variety of quantum states and operations, you can evaluate the accuracy, fidelity, and robustness of quantum computers under different conditions."
   ]
  },
  {
   "cell_type": "code",
   "execution_count": 1,
   "metadata": {},
   "outputs": [
    {
     "name": "stdout",
     "output_type": "stream",
     "text": [
      "Note: you may need to restart the kernel to use updated packages.\n"
     ]
    }
   ],
   "source": [
    "pip install cirq -q"
   ]
  },
  {
   "cell_type": "code",
   "execution_count": 2,
   "metadata": {},
   "outputs": [],
   "source": [
    "import networkx as nx\n",
    "import numpy as np\n",
    "import cirq\n",
    "import numpy as np\n",
    "\n",
    "def graph_state_circuit(num_qubits):\n",
    "    \"\"\"Returns a graph state circuit on num_qubits qubits\"\"\"\n",
    "    # Generate a complete graph with num_qubits nodes\n",
    "    graph = nx.complete_graph(num_qubits)\n",
    "\n",
    "    # Initialize the circuit with the given qubits\n",
    "    qubits = [cirq.LineQubit(i) for i in range(num_qubits)]\n",
    "    circuit = cirq.Circuit()\n",
    "\n",
    "    # Apply Hadamard gates to all qubits\n",
    "    circuit.append(cirq.H.on_each(qubits))\n",
    "\n",
    "    # Apply random controlled unitary gates to each edge\n",
    "    for edge in graph.edges():\n",
    "        control_qubit, target_qubit = qubits[edge[0]], qubits[edge[1]]\n",
    "\n",
    "        # Generate a random unitary matrix\n",
    "        random_unitary = cirq.testing.random_unitary(2)\n",
    "\n",
    "        # Apply the controlled random unitary gate to the circuit\n",
    "        circuit.append(cirq.ControlledGate(cirq.MatrixGate(random_unitary)).on(control_qubit, target_qubit))\n",
    "        \n",
    "    # Define number of qubits in circuit\n",
    "    circuit.num_qubits = len(circuit.all_qubits())\n",
    "\n",
    "    return circuit\n",
    "\n"
   ]
  },
  {
   "cell_type": "code",
   "execution_count": 3,
   "metadata": {},
   "outputs": [
    {
     "data": {
      "text/html": [
       "<pre style=\"overflow: auto; white-space: pre;\">                                                                          ┌──────────────────────────────────────────────────────────┐   ┌──────────────────────────────────────────────────────────┐   ┌──────────────────────────────────────────────────────────┐\n",
       "0: ───H───@───────────────────────────────@────────────────────────────────@──────────────────────────────────────────────────────────────@────────────────────────────────────────────────────────────────────────────────────────────────────────────────────────────────────────────────────────────────────────────────────────────\n",
       "          │                               │                                │                                                              │\n",
       "          ┌                           ┐   │                                │                                                              │\n",
       "1: ───H───│ 0.701-0.427j -0.393+0.413j│───┼────────────────────────────────┼────────────────────────────@─────────────────────────────────┼────────────────────────────@─────────────────────────────────@─────────────────────────────────────────────────────────────────────────────────────────────────────────────────────────────\n",
       "          │-0.54 -0.185j -0.819-0.055j│   │                                │                            │                                 │                            │                                 │\n",
       "          └                           ┘   │                                │                            │                                 │                            │                                 │\n",
       "                                          │                                │                            │                                 │                            │                                 │\n",
       "                                          ┌                           ┐    │                            ┌                           ┐     │                            │                                 │\n",
       "2: ───H───────────────────────────────────│ 0.337+0.364j -0.671-0.55j │────┼────────────────────────────│ 0.113-0.959j  0.243-0.094j│─────┼────────────────────────────┼─────────────────────────────────┼────────────────────────────@────────────────────────────────@───────────────────────────────────────────────────────────────\n",
       "                                          │ 0.719-0.486j  0.37 -0.331j│    │                            │-0.068-0.251j -0.705+0.66j │     │                            │                                 │                            │                                │\n",
       "                                          └                           ┘    │                            └                           ┘     │                            │                                 │                            │                                │\n",
       "                                                                           │                                                              │                            │                                 │                            │                                │\n",
       "                                                                           ┌                           ┐                                  │                            ┌                           ┐     │                            ┌                           ┐    │\n",
       "3: ───H────────────────────────────────────────────────────────────────────│ 0.353-0.621j  0.657+0.242j│──────────────────────────────────┼────────────────────────────│-0.764+0.352j  0.427+0.332j│─────┼────────────────────────────│-0.351+0.544j -0.192-0.737j│────┼───────────────────────────────@───────────────────────────────\n",
       "                                                                           │-0.668+0.211j  0.324+0.636j│                                  │                            │ 0.33 +0.429j -0.356+0.762j│     │                            │ 0.427+0.631j  0.641+0.095j│    │                               │\n",
       "                                                                           └                           ┘                                  │                            └                           ┘     │                            └                           ┘    │                               │\n",
       "                                                                                                                                          │                                                              │                                                             │                               │\n",
       "                                                                                                                                          ┌                           ┐                                  ┌                           ┐                                 ┌                           ┐   ┌                           ┐\n",
       "4: ───H───────────────────────────────────────────────────────────────────────────────────────────────────────────────────────────────────│ 0.124-0.233j -0.951-0.16j │──────────────────────────────────│-0.647-0.722j -0.027+0.243j│─────────────────────────────────│-0.14 -0.691j  0.699-0.119j│───│-0.036+0.144j  0.967+0.207j│───\n",
       "                                                                                                                                          │-0.152+0.953j -0.26 +0.043j│                                  │-0.194+0.148j -0.953-0.181j│                                 │-0.274-0.654j -0.658+0.252j│   │ 0.988-0.053j  0.013+0.148j│\n",
       "                                                                                                                                          └                           ┘                                  └                           ┘                                 └                           ┘   └                           ┘\n",
       "                                                                          └──────────────────────────────────────────────────────────┘   └──────────────────────────────────────────────────────────┘   └──────────────────────────────────────────────────────────┘</pre>"
      ],
      "text/plain": [
       "                                                                          ┌──────────────────────────────────────────────────────────┐   ┌──────────────────────────────────────────────────────────┐   ┌──────────────────────────────────────────────────────────┐\n",
       "0: ───H───@───────────────────────────────@────────────────────────────────@──────────────────────────────────────────────────────────────@────────────────────────────────────────────────────────────────────────────────────────────────────────────────────────────────────────────────────────────────────────────────────────────\n",
       "          │                               │                                │                                                              │\n",
       "          ┌                           ┐   │                                │                                                              │\n",
       "1: ───H───│ 0.701-0.427j -0.393+0.413j│───┼────────────────────────────────┼────────────────────────────@─────────────────────────────────┼────────────────────────────@─────────────────────────────────@─────────────────────────────────────────────────────────────────────────────────────────────────────────────────────────────\n",
       "          │-0.54 -0.185j -0.819-0.055j│   │                                │                            │                                 │                            │                                 │\n",
       "          └                           ┘   │                                │                            │                                 │                            │                                 │\n",
       "                                          │                                │                            │                                 │                            │                                 │\n",
       "                                          ┌                           ┐    │                            ┌                           ┐     │                            │                                 │\n",
       "2: ───H───────────────────────────────────│ 0.337+0.364j -0.671-0.55j │────┼────────────────────────────│ 0.113-0.959j  0.243-0.094j│─────┼────────────────────────────┼─────────────────────────────────┼────────────────────────────@────────────────────────────────@───────────────────────────────────────────────────────────────\n",
       "                                          │ 0.719-0.486j  0.37 -0.331j│    │                            │-0.068-0.251j -0.705+0.66j │     │                            │                                 │                            │                                │\n",
       "                                          └                           ┘    │                            └                           ┘     │                            │                                 │                            │                                │\n",
       "                                                                           │                                                              │                            │                                 │                            │                                │\n",
       "                                                                           ┌                           ┐                                  │                            ┌                           ┐     │                            ┌                           ┐    │\n",
       "3: ───H────────────────────────────────────────────────────────────────────│ 0.353-0.621j  0.657+0.242j│──────────────────────────────────┼────────────────────────────│-0.764+0.352j  0.427+0.332j│─────┼────────────────────────────│-0.351+0.544j -0.192-0.737j│────┼───────────────────────────────@───────────────────────────────\n",
       "                                                                           │-0.668+0.211j  0.324+0.636j│                                  │                            │ 0.33 +0.429j -0.356+0.762j│     │                            │ 0.427+0.631j  0.641+0.095j│    │                               │\n",
       "                                                                           └                           ┘                                  │                            └                           ┘     │                            └                           ┘    │                               │\n",
       "                                                                                                                                          │                                                              │                                                             │                               │\n",
       "                                                                                                                                          ┌                           ┐                                  ┌                           ┐                                 ┌                           ┐   ┌                           ┐\n",
       "4: ───H───────────────────────────────────────────────────────────────────────────────────────────────────────────────────────────────────│ 0.124-0.233j -0.951-0.16j │──────────────────────────────────│-0.647-0.722j -0.027+0.243j│─────────────────────────────────│-0.14 -0.691j  0.699-0.119j│───│-0.036+0.144j  0.967+0.207j│───\n",
       "                                                                                                                                          │-0.152+0.953j -0.26 +0.043j│                                  │-0.194+0.148j -0.953-0.181j│                                 │-0.274-0.654j -0.658+0.252j│   │ 0.988-0.053j  0.013+0.148j│\n",
       "                                                                                                                                          └                           ┘                                  └                           ┘                                 └                           ┘   └                           ┘\n",
       "                                                                          └──────────────────────────────────────────────────────────┘   └──────────────────────────────────────────────────────────┘   └──────────────────────────────────────────────────────────┘"
      ]
     },
     "execution_count": 3,
     "metadata": {},
     "output_type": "execute_result"
    }
   ],
   "source": [
    "num_qubits = 5\n",
    "circuit = graph_state_circuit(num_qubits)\n",
    "circuit"
   ]
  },
  {
   "attachments": {},
   "cell_type": "markdown",
   "metadata": {},
   "source": [
    "## Partition the Circuit by Time Steps (Moments)"
   ]
  },
  {
   "cell_type": "code",
   "execution_count": 4,
   "metadata": {},
   "outputs": [],
   "source": [
    "import cirq\n",
    "\n",
    "def partition_circuit_by_moments(circuit):\n",
    "    moments = list(circuit)\n",
    "    simulator = cirq.Simulator()\n",
    "\n",
    "    state_vectors = []\n",
    "    current_state = simulator.simulate(circuit)\n",
    "    state_vectors.append(current_state.final_state_vector)\n",
    "\n",
    "    for i in range(1, len(moments)):\n",
    "        moment = moments[:i+1]\n",
    "        partial_circuit = cirq.Circuit(moment)\n",
    "        current_state = simulator.simulate(partial_circuit)\n",
    "        state_vectors.append(current_state.final_state_vector)\n",
    "\n",
    "    return state_vectors"
   ]
  },
  {
   "cell_type": "code",
   "execution_count": 5,
   "metadata": {},
   "outputs": [
    {
     "data": {
      "text/plain": [
       "[array([ 0.17677668+0.00000000e+00j,  0.17677668+0.00000000e+00j,\n",
       "         0.16467628+6.19714446e-02j,  0.17680873+1.67309344e-02j,\n",
       "        -0.08137403+5.87410741e-02j,  0.07584735+7.04877749e-02j,\n",
       "        -0.07567599-1.81805700e-01j,  0.22987734-1.12172276e-01j,\n",
       "        -0.02081352-1.22034267e-01j, -0.11827227-1.24579743e-01j,\n",
       "        -0.19423415-1.57227308e-01j, -0.10550968-1.89615995e-01j,\n",
       "        -0.0432856 -1.63625270e-01j, -0.06572936+7.13606924e-02j,\n",
       "         0.05947816-7.29788691e-02j,  0.09449834+1.99446708e-01j,\n",
       "         0.01760176+1.07070133e-02j,  0.01153577-2.13042218e-02j,\n",
       "         0.00233586+1.75871421e-02j, -0.01911505+6.89816754e-03j,\n",
       "        -0.0476329 +8.66086632e-02j,  0.0014236 -7.59367645e-03j,\n",
       "        -0.00371404-2.05198973e-02j, -0.06915944+8.36585835e-02j,\n",
       "        -0.00348929-6.15222612e-03j, -0.00262215+1.15396604e-02j,\n",
       "        -0.00118551-1.65846874e-03j,  0.00150525-2.17713125e-04j,\n",
       "        -0.2876187 +2.54326701e-01j, -0.05194824-1.79632261e-01j,\n",
       "        -0.24952674-1.70599684e-01j,  0.01919111+4.49342579e-01j],\n",
       "       dtype=complex64),\n",
       " array([ 0.17677668+0.j        ,  0.17677668+0.j        ,\n",
       "         0.17677668+0.j        ,  0.17677668+0.j        ,\n",
       "         0.17677668+0.j        ,  0.17677668+0.j        ,\n",
       "         0.17677668+0.j        ,  0.17677668+0.j        ,\n",
       "         0.17677668+0.j        ,  0.17677668+0.j        ,\n",
       "         0.17677668+0.j        ,  0.17677668+0.j        ,\n",
       "         0.17677668+0.j        ,  0.17677668+0.j        ,\n",
       "         0.17677668+0.j        ,  0.17677668+0.j        ,\n",
       "         0.05447009-0.0024875j ,  0.05447009-0.0024875j ,\n",
       "         0.05447009-0.0024875j ,  0.05447009-0.0024875j ,\n",
       "         0.05447009-0.0024875j ,  0.05447009-0.0024875j ,\n",
       "         0.05447009-0.0024875j ,  0.05447009-0.0024875j ,\n",
       "        -0.24027929-0.04233988j, -0.24027929-0.04233988j,\n",
       "        -0.24027929-0.04233988j, -0.24027929-0.04233988j,\n",
       "        -0.24027929-0.04233988j, -0.24027929-0.04233988j,\n",
       "        -0.24027929-0.04233988j, -0.24027929-0.04233988j], dtype=complex64),\n",
       " array([ 0.17677668+0.j        ,  0.17677668+0.j        ,\n",
       "         0.17677668+0.j        ,  0.17677668+0.j        ,\n",
       "         0.17677668+0.j        ,  0.17677668+0.j        ,\n",
       "         0.17677668+0.j        ,  0.17677668+0.j        ,\n",
       "         0.17677668+0.j        ,  0.17677668+0.j        ,\n",
       "         0.17677668+0.j        ,  0.17677668+0.j        ,\n",
       "         0.17677668+0.j        ,  0.17677668+0.j        ,\n",
       "         0.17677668+0.j        ,  0.17677668+0.j        ,\n",
       "        -0.01866513-0.00929504j, -0.01866513-0.00929504j,\n",
       "        -0.01866513-0.00929504j, -0.01866513-0.00929504j,\n",
       "         0.05728618-0.04722146j,  0.05728618-0.04722146j,\n",
       "         0.05728618-0.04722146j,  0.05728618-0.04722146j,\n",
       "         0.07242475+0.05881837j,  0.07242475+0.05881837j,\n",
       "         0.07242475+0.05881837j,  0.07242475+0.05881837j,\n",
       "        -0.29626843+0.15024538j, -0.29626843+0.15024538j,\n",
       "        -0.29626843+0.15024538j, -0.29626843+0.15024538j], dtype=complex64),\n",
       " array([ 0.17677668+0.j        ,  0.17677668+0.j        ,\n",
       "         0.17677668+0.j        ,  0.17677668+0.j        ,\n",
       "         0.17677668+0.j        ,  0.17677668+0.j        ,\n",
       "         0.17677668+0.j        ,  0.17677668+0.j        ,\n",
       "         0.06288514-0.18611132j,  0.06288514-0.18611132j,\n",
       "         0.06288514-0.18611132j,  0.06288514-0.18611132j,\n",
       "        -0.13667706+0.07230077j, -0.13667706+0.07230077j,\n",
       "        -0.13667706+0.07230077j, -0.13667706+0.07230077j,\n",
       "        -0.02236738-0.00232452j, -0.02236738-0.00232452j,\n",
       "         0.01429984-0.01262463j,  0.01429984-0.01262463j,\n",
       "         0.03998614-0.06936625j,  0.03998614-0.06936625j,\n",
       "         0.02032272+0.06480404j,  0.02032272+0.06480404j,\n",
       "         0.00747556-0.00112411j,  0.00747556-0.00112411j,\n",
       "        -0.00359278+0.00531141j, -0.00359278+0.00531141j,\n",
       "        -0.00176296-0.37203798j, -0.00176296-0.37203798j,\n",
       "         0.23320968+0.21261896j,  0.23320968+0.21261896j], dtype=complex64),\n",
       " array([ 0.17677668+0.0000000e+00j,  0.17677668+0.0000000e+00j,\n",
       "         0.17677668+0.0000000e+00j,  0.17677668+0.0000000e+00j,\n",
       "         0.17677668+0.0000000e+00j,  0.17677668+0.0000000e+00j,\n",
       "         0.17677668+0.0000000e+00j,  0.17677668+0.0000000e+00j,\n",
       "         0.10611312+1.0562674e-01j,  0.10611312+1.0562674e-01j,\n",
       "         0.21996887+7.9878762e-02j,  0.21996887+7.9878762e-02j,\n",
       "        -0.00345407-1.1779464e-01j, -0.00345407-1.1779464e-01j,\n",
       "        -0.0824476 -1.6471466e-01j, -0.0824476 -1.6471466e-01j,\n",
       "         0.01760176+1.0707013e-02j,  0.01153577-2.1304222e-02j,\n",
       "        -0.01679391+4.8349369e-03j,  0.00666964+1.9438049e-02j,\n",
       "        -0.06033614+4.1716490e-02j,  0.05255499+6.8398789e-02j,\n",
       "         0.00862427-6.1621353e-02j, -0.07287966-6.4913556e-03j,\n",
       "         0.00892248-3.9339124e-04j, -0.00098868-1.0455696e-02j,\n",
       "        -0.00085341+1.4094803e-03j,  0.00170572+9.1907755e-04j,\n",
       "         0.04407966-4.3732613e-01j, -0.5162153 -2.5954813e-02j,\n",
       "         0.06259531+5.1552266e-02j,  0.05685025-7.6557457e-02j],\n",
       "       dtype=complex64),\n",
       " array([ 0.17677668+0.0000000e+00j,  0.17677668+0.0000000e+00j,\n",
       "         0.17677668+0.0000000e+00j,  0.17677668+0.0000000e+00j,\n",
       "        -0.09609389-3.4099281e-02j, -0.09609389-3.4099281e-02j,\n",
       "         0.18884856+1.2821628e-01j,  0.18884856+1.2821628e-01j,\n",
       "        -0.02081352-1.2203427e-01j, -0.11827227-1.2457974e-01j,\n",
       "        -0.10984801-1.5929615e-01j, -0.24968384-9.8741964e-02j,\n",
       "         0.09038828-6.9568843e-02j,  0.05043601-1.5001971e-01j,\n",
       "        -0.10351759+9.4678715e-02j, -0.04616966+1.8910556e-01j,\n",
       "         0.01760176+1.0707013e-02j,  0.01153577-2.1304222e-02j,\n",
       "        -0.01679391+4.8349369e-03j,  0.00666964+1.9438049e-02j,\n",
       "        -0.04858552-4.2008404e-02j, -0.0464685 +5.9540428e-02j,\n",
       "        -0.04073156-5.8889434e-02j, -0.06675786+5.1312864e-02j,\n",
       "        -0.00348929-6.1522261e-03j, -0.00262215+1.1539660e-02j,\n",
       "         0.00130143+9.4619289e-05j, -0.00150227-1.5841862e-03j,\n",
       "        -0.00367306-2.1905969e-01j, -0.24242267+2.7496105e-01j,\n",
       "        -0.20349541-1.8941239e-01j,  0.03803838+4.6358445e-01j],\n",
       "       dtype=complex64),\n",
       " array([ 0.17677668+0.0000000e+00j,  0.17677668+0.0000000e+00j,\n",
       "         0.17677668+0.0000000e+00j,  0.17677668+0.0000000e+00j,\n",
       "        -0.08137403+5.8741074e-02j,  0.07584735+7.0487775e-02j,\n",
       "         0.20948301-8.1200905e-02j, -0.12441087-1.9558015e-01j,\n",
       "        -0.02081352-1.2203427e-01j, -0.11827227-1.2457974e-01j,\n",
       "        -0.10984801-1.5929615e-01j, -0.24968384-9.8741964e-02j,\n",
       "        -0.0432856 -1.6362527e-01j, -0.06572936+7.1360692e-02j,\n",
       "         0.07010362+1.9600879e-01j,  0.07311152-9.4303966e-02j,\n",
       "         0.01760176+1.0707013e-02j,  0.01153577-2.1304222e-02j,\n",
       "        -0.01679391+4.8349369e-03j,  0.00666964+1.9438049e-02j,\n",
       "        -0.0476329 +8.6608663e-02j,  0.0014236 -7.5936764e-03j,\n",
       "        -0.07556123+8.0205753e-02j,  0.00365373-7.7997372e-03j,\n",
       "        -0.00348929-6.1522261e-03j, -0.00262215+1.1539660e-02j,\n",
       "         0.00130143+9.4619289e-05j, -0.00150227-1.5841862e-03j,\n",
       "        -0.2876187 +2.5432670e-01j, -0.05194824-1.7963226e-01j,\n",
       "        -0.02059748+4.8674440e-01j, -0.20993274-1.1058381e-01j],\n",
       "       dtype=complex64),\n",
       " array([ 0.17677668+0.00000000e+00j,  0.17677668+0.00000000e+00j,\n",
       "         0.16467628+6.19714446e-02j,  0.17680873+1.67309344e-02j,\n",
       "        -0.08137403+5.87410741e-02j,  0.07584735+7.04877749e-02j,\n",
       "        -0.07567599-1.81805700e-01j,  0.22987734-1.12172276e-01j,\n",
       "        -0.02081352-1.22034267e-01j, -0.11827227-1.24579743e-01j,\n",
       "        -0.19423415-1.57227308e-01j, -0.10550968-1.89615995e-01j,\n",
       "        -0.0432856 -1.63625270e-01j, -0.06572936+7.13606924e-02j,\n",
       "         0.05947816-7.29788691e-02j,  0.09449834+1.99446708e-01j,\n",
       "         0.01760176+1.07070133e-02j,  0.01153577-2.13042218e-02j,\n",
       "         0.00233586+1.75871421e-02j, -0.01911505+6.89816754e-03j,\n",
       "        -0.0476329 +8.66086632e-02j,  0.0014236 -7.59367645e-03j,\n",
       "        -0.00371404-2.05198973e-02j, -0.06915944+8.36585835e-02j,\n",
       "        -0.00348929-6.15222612e-03j, -0.00262215+1.15396604e-02j,\n",
       "        -0.00118551-1.65846874e-03j,  0.00150525-2.17713125e-04j,\n",
       "        -0.2876187 +2.54326701e-01j, -0.05194824-1.79632261e-01j,\n",
       "        -0.24952674-1.70599684e-01j,  0.01919111+4.49342579e-01j],\n",
       "       dtype=complex64)]"
      ]
     },
     "execution_count": 5,
     "metadata": {},
     "output_type": "execute_result"
    }
   ],
   "source": [
    "partition_circuit_by_moments(circuit)"
   ]
  },
  {
   "attachments": {},
   "cell_type": "markdown",
   "metadata": {},
   "source": [
    "Now, let's pick a single density matrix to run persistent homology analysis on, say the final one of the fully entangled system. In reality we would run the persistent homology analysis at each time step to obtain a bifiltration (on time parameter and one QMI parameter). "
   ]
  },
  {
   "cell_type": "code",
   "execution_count": 6,
   "metadata": {},
   "outputs": [
    {
     "data": {
      "text/plain": [
       "((32, 32),\n",
       " array([[ 0.03124999+0.j        ,  0.03124999+0.j        ,\n",
       "          0.02911093-0.01095511j, ..., -0.00918324+0.0317548j ,\n",
       "         -0.04411051+0.03015804j,  0.00339254-0.07943328j],\n",
       "        [ 0.03124999+0.j        ,  0.03124999+0.j        ,\n",
       "          0.02911093-0.01095511j, ..., -0.00918324+0.0317548j ,\n",
       "         -0.04411051+0.03015804j,  0.00339254-0.07943328j],\n",
       "        [ 0.02911093+0.01095511j,  0.02911093+0.01095511j,\n",
       "          0.03095874+0.j        , ..., -0.01968671+0.02636186j,\n",
       "         -0.05166344+0.01263019j,  0.03100673-0.07280677j],\n",
       "        ...,\n",
       "        [-0.00918324-0.0317548j , -0.00918324-0.0317548j ,\n",
       "         -0.01968671-0.02636186j, ...,  0.03496637+0.j        ,\n",
       "          0.04360768+0.0359607j , -0.08171337+0.01989521j],\n",
       "        [-0.04411051-0.03015804j, -0.04411051-0.03015804j,\n",
       "         -0.05166344-0.01263019j, ...,  0.04360768-0.0359607j ,\n",
       "          0.09136784+0.j        , -0.0814464 +0.10884899j],\n",
       "        [ 0.00339254+0.07943328j,  0.00339254+0.07943328j,\n",
       "          0.03100673+0.07280677j, ..., -0.08171337-0.01989521j,\n",
       "         -0.0814464 -0.10884899j,  0.20227705+0.j        ]],\n",
       "       dtype=complex64))"
      ]
     },
     "execution_count": 6,
     "metadata": {},
     "output_type": "execute_result"
    }
   ],
   "source": [
    "rho = cirq.final_density_matrix(circuit)\n",
    "rho.shape, rho"
   ]
  },
  {
   "cell_type": "code",
   "execution_count": 7,
   "metadata": {},
   "outputs": [],
   "source": [
    "import numpy as np\n",
    "from qiskit.quantum_info import partial_trace, entropy, mutual_information\n",
    "\n",
    "\n",
    "def compute_mutual_information(rho):\n",
    "    \"\"\"\n",
    "    Computes the quantum mutual information for every pair of qubits in the input density matrix.\n",
    "\n",
    "    Args:\n",
    "        rho (numpy.ndarray): a 2^n x 2^n density matrix representing the state of n qubits.\n",
    "\n",
    "    Returns:\n",
    "        numpy.ndarray: an n x n matrix of quantum mutual information values, where element i,j gives the mutual\n",
    "        information between qubits i and j.\n",
    "    \"\"\"\n",
    "    # Determine the number of qubits n from the shape of rho.\n",
    "    n = int(np.log2(rho.shape[0]))\n",
    "\n",
    "    # Create an empty n x n matrix to store the mutual information.\n",
    "    mutual_information_matrix = np.zeros((n, n))\n",
    "\n",
    "    # Loop over all pairs of qubits (i, j).\n",
    "    for i in range(n):\n",
    "        for j in range(i+1, n):\n",
    "\n",
    "            # Define the indices of the qubits to trace out.\n",
    "            trace_indices = [k for k in range(n) if k != i and k != j]\n",
    "\n",
    "            # Trace out the other qubits to obtain the reduced density matrix of qubits i and j.\n",
    "            rho_ij = partial_trace(rho, trace_indices)\n",
    "\n",
    "            # Compute the von Neumann entropy of the reduced density matrix of qubit i.\n",
    "            entropy_i = entropy(partial_trace(rho_ij, [1]))\n",
    "\n",
    "            # Compute the von Neumann entropy of the reduced density matrix of qubit j.\n",
    "            entropy_j = entropy(partial_trace(rho_ij, [0]))\n",
    "\n",
    "            # Compute the mutual information between qubits i and j.\n",
    "            mutual_information_matrix[i,j] = entropy_i + entropy_j - entropy(rho_ij)\n",
    "\n",
    "    # Copy the upper triangular part of the matrix to the lower triangular part.\n",
    "    mutual_information_matrix += mutual_information_matrix.T - np.diag(mutual_information_matrix.diagonal())\n",
    "\n",
    "    return mutual_information_matrix\n"
   ]
  },
  {
   "attachments": {},
   "cell_type": "markdown",
   "metadata": {},
   "source": [
    "From each time step, we obtain a distance matrix given by the QMI between each pair of qubits. "
   ]
  },
  {
   "cell_type": "code",
   "execution_count": 8,
   "metadata": {},
   "outputs": [
    {
     "data": {
      "text/plain": [
       "array([[0.        , 0.47831544, 0.31059381, 0.18424903, 0.32288445],\n",
       "       [0.47831544, 0.        , 0.21250527, 0.05942852, 0.28598234],\n",
       "       [0.31059381, 0.21250527, 0.        , 0.35522567, 0.36369692],\n",
       "       [0.18424903, 0.05942852, 0.35522567, 0.        , 0.35643524],\n",
       "       [0.32288445, 0.28598234, 0.36369692, 0.35643524, 0.        ]])"
      ]
     },
     "execution_count": 8,
     "metadata": {},
     "output_type": "execute_result"
    }
   ],
   "source": [
    "qmi_distance_matrix = compute_mutual_information(rho)\n",
    "qmi_distance_matrix"
   ]
  },
  {
   "attachments": {},
   "cell_type": "markdown",
   "metadata": {},
   "source": [
    "## Persistent Homology Using Quantum Mutual Information\n",
    "\n",
    "Quantum mutual information provides us with a distance metric which can be used to compute the persistent homology of quantum systems at arbitrary time steps. This filters a quantum circuit such as the one we have constructed in two ways. One filtration paramter is of course the quantum mutual information calculated between each pair of qubits. The second is the time parameter. Since the circuit is natrually divided into time steps, or moments, we can use this second parameter to construct a bifiltration of the quantum system. For bifiltrations and $2$-parameter persistent homology we can use [Rivet](https://rivet.readthedocs.io/en/latest/about.html). However, because the filtration into time steps is discretized already, we can simply apply one-parameter persistence to each time step to obtain the two-parameter persistent homology. "
   ]
  },
  {
   "cell_type": "code",
   "execution_count": 9,
   "metadata": {},
   "outputs": [],
   "source": [
    "import gudhi as gd\n",
    "\n",
    "def persistent_homology(qmi_distance_matrix, dimension=1):\n",
    "    \"\"\"\n",
    "    Computes the persistent homology for the QMI distance matrix.\n",
    "\n",
    "    Args:\n",
    "        qmi_distance_matrix (numpy.ndarray): An n x n QMI distance matrix.\n",
    "        dimension (int): The maximum dimension for the simplices to compute persistent homology. Default is 1.\n",
    "\n",
    "    Returns:\n",
    "        list: A list of tuples representing the persistent homology. Each tuple contains two elements: the first\n",
    "        element is the dimension of the feature, and the second element is a tuple representing the birth and death\n",
    "        of the feature.\n",
    "    \"\"\"\n",
    "    # Create a Rips complex from the QMI distance matrix\n",
    "    rips_complex = gd.RipsComplex(distance_matrix=qmi_distance_matrix, max_edge_length=np.inf)\n",
    "\n",
    "    # Create a simplex tree from the Rips complex\n",
    "    simplex_tree = rips_complex.create_simplex_tree(max_dimension=dimension)\n",
    "\n",
    "    # Compute the persistent homology\n",
    "    persistence = simplex_tree.persistence()\n",
    "\n",
    "    return persistence\n"
   ]
  },
  {
   "cell_type": "code",
   "execution_count": 10,
   "metadata": {},
   "outputs": [
    {
     "data": {
      "text/plain": [
       "[(0, (0.0, inf)),\n",
       " (0, (0.0, 0.2859823365143863)),\n",
       " (0, (0.0, 0.21250526938320746)),\n",
       " (0, (0.0, 0.18424902925217213)),\n",
       " (0, (0.0, 0.05942852051397507))]"
      ]
     },
     "execution_count": 10,
     "metadata": {},
     "output_type": "execute_result"
    }
   ],
   "source": [
    "persistence = persistent_homology(qmi_distance_matrix)\n",
    "persistence"
   ]
  },
  {
   "cell_type": "code",
   "execution_count": 11,
   "metadata": {},
   "outputs": [],
   "source": [
    "import matplotlib.pyplot as plt\n",
    "\n",
    "def plot_persistence_diagram(persistence):\n",
    "    \"\"\"\n",
    "    Plots the persistence diagram for the given persistent homology.\n",
    "\n",
    "    Args:\n",
    "        persistence (list): A list of tuples representing the persistent homology.\n",
    "    \"\"\"\n",
    "    gd.plot_persistence_diagram(persistence)\n",
    "    plt.show()\n"
   ]
  },
  {
   "cell_type": "code",
   "execution_count": 12,
   "metadata": {},
   "outputs": [
    {
     "data": {
      "image/png": "[encoded data removed]",
      "text/plain": [
       "<Figure size 640x480 with 1 Axes>"
      ]
     },
     "metadata": {},
     "output_type": "display_data"
    }
   ],
   "source": [
    "plot_persistence_diagram(persistence)"
   ]
  },
  {
   "attachments": {},
   "cell_type": "markdown",
   "metadata": {},
   "source": [
    "## Comparing Persistent Homology\n",
    "\n",
    "Suppose we would like to use persistent homology to compare the entanglement structure of two different systems. We can use the Wasserstein or Bottleneck distances in order to do so. So, for example, we can observe how much the persistent homology changes from one time step to another, providing insight into what time steps introduct significant topological features. For example, suppose one of the entangling gates introduced significantly more entanglement than the others. This would result in a QMI outlier that would result in an edge that persists for longer than other edges in the simplicial complex. We can view this in the interaction graph (with edges colored by how strong the QMI is) or in the simplicial complexes and their corresponding persistence diagrams. Comparing this time step with others results in a larger Wasserstein or Bottleneck distance between the current time step and the previous time step. "
   ]
  },
  {
   "cell_type": "code",
   "execution_count": null,
   "metadata": {},
   "outputs": [],
   "source": []
  }
 ],
 "metadata": {
  "kernelspec": {
   "display_name": "base",
   "language": "python",
   "name": "python3"
  },
  "language_info": {
   "codemirror_mode": {
    "name": "ipython",
    "version": 3
   },
   "file_extension": ".py",
   "mimetype": "text/x-python",
   "name": "python",
   "nbconvert_exporter": "python",
   "pygments_lexer": "ipython3",
   "version": "3.10.9"
  },
  "orig_nbformat": 4
 },
 "nbformat": 4,
 "nbformat_minor": 2
}
