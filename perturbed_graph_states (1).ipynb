{
 "cells": [
  {
   "cell_type": "code",
   "execution_count": 1,
   "id": "dc600e0f-fc47-41e7-8502-331dc3efa2ab",
   "metadata": {},
   "outputs": [
    {
     "name": "stdout",
     "output_type": "stream",
     "text": [
      "Note: you may need to restart the kernel to use updated packages.\n"
     ]
    }
   ],
   "source": [
    "pip install qiskit -q"
   ]
  },
  {
   "cell_type": "markdown",
   "id": "1d4fffb8-254b-423d-bae0-fc1da7736c61",
   "metadata": {},
   "source": [
    "# Perturbed Graph States"
   ]
  },
  {
   "cell_type": "markdown",
   "id": "a04c9bd9-7110-4501-9f23-a2c123d8c410",
   "metadata": {},
   "source": [
    "In the following notebook we construct **perturbed graph states** which are graph states using controlled random unitary matrix gates to entangle qubits connected by an edge in the graph of the graph state. Once we have such states we can use them to study the persistent homology of entanglement. "
   ]
  },
  {
   "cell_type": "markdown",
   "id": "3578d195-b7bc-4a76-8a8b-7ebaa9efe2d7",
   "metadata": {},
   "source": [
    "## Using Qiskit"
   ]
  },
  {
   "cell_type": "code",
   "execution_count": 2,
   "id": "26618183-6a96-4b66-bdd9-44d0084b1f58",
   "metadata": {},
   "outputs": [],
   "source": [
    "import networkx as nx\n",
    "import numpy as np\n",
    "from qiskit import QuantumCircuit, QuantumRegister\n",
    "from qiskit.extensions import UnitaryGate\n",
    "from qiskit.quantum_info.random import random_unitary\n",
    "\n",
    "def graph_state_circuit(num_qubits):\n",
    "    \"\"\"Returns a graph state circuit on num_qubits qubits\"\"\"\n",
    "    # Generate a random graph with num_qubits nodes\n",
    "    graph = nx.fast_gnp_random_graph(num_qubits, 0.5)\n",
    "\n",
    "    # Initialize the circuit with the given qubits\n",
    "    qubits = QuantumRegister(num_qubits)\n",
    "    circuit = QuantumCircuit(qubits)\n",
    "\n",
    "    # Apply Hadamard gates to all qubits\n",
    "    circuit.h(qubits)\n",
    "\n",
    "    # Apply random controlled unitary gates to each edge\n",
    "    for edge in graph.edges():\n",
    "        control_qubit, target_qubit = qubits[edge[0]], qubits[edge[1]]\n",
    "\n",
    "        # Generate a random unitary matrix\n",
    "        random_unitary_matrix = random_unitary(2).data\n",
    "\n",
    "        # Apply the controlled random unitary gate to the circuit\n",
    "        controlled_unitary_gate = UnitaryGate(random_unitary_matrix).control()\n",
    "        circuit.append(controlled_unitary_gate, [control_qubit, target_qubit])\n",
    "\n",
    "    # Define number of qubits in circuit\n",
    "    # circuit.num_qubits = len(circuit.qubits)\n",
    "\n",
    "    return circuit\n"
   ]
  },
  {
   "cell_type": "code",
   "execution_count": 3,
   "id": "7acaf556-35bc-4120-81aa-70c482836158",
   "metadata": {},
   "outputs": [
    {
     "data": {
      "text/html": [
       "<pre style=\"word-wrap: normal;white-space: pre;background: #fff0;line-height: 1.1;font-family: &quot;Courier New&quot;,Courier,monospace\">      ┌───┐                                 \n",
       "q0_0: ┤ H ├─────■──────────■────────────────\n",
       "      ├───┤┌────┴────┐     │                \n",
       "q0_1: ┤ H ├┤ Unitary ├─────┼──────────■─────\n",
       "      ├───┤└─────────┘     │          │     \n",
       "q0_2: ┤ H ├────────────────┼──────────┼─────\n",
       "      ├───┤           ┌────┴────┐┌────┴────┐\n",
       "q0_3: ┤ H ├───────────┤ Unitary ├┤ Unitary ├\n",
       "      └───┘           └─────────┘└─────────┘</pre>"
      ],
      "text/plain": [
       "      ┌───┐                                 \n",
       "q0_0: ┤ H ├─────■──────────■────────────────\n",
       "      ├───┤┌────┴────┐     │                \n",
       "q0_1: ┤ H ├┤ Unitary ├─────┼──────────■─────\n",
       "      ├───┤└─────────┘     │          │     \n",
       "q0_2: ┤ H ├────────────────┼──────────┼─────\n",
       "      ├───┤           ┌────┴────┐┌────┴────┐\n",
       "q0_3: ┤ H ├───────────┤ Unitary ├┤ Unitary ├\n",
       "      └───┘           └─────────┘└─────────┘"
      ]
     },
     "execution_count": 3,
     "metadata": {},
     "output_type": "execute_result"
    }
   ],
   "source": [
    "num_qubits = 4\n",
    "circuit = graph_state_circuit(num_qubits)\n",
    "circuit.draw()"
   ]
  },
  {
   "cell_type": "markdown",
   "id": "59dbc5a5-fb92-4a8d-add1-2fb0911654fd",
   "metadata": {},
   "source": [
    "## Using Cirq"
   ]
  },
  {
   "cell_type": "code",
   "execution_count": 4,
   "id": "78eb8910-49b5-46df-a47b-46207defc8ab",
   "metadata": {},
   "outputs": [],
   "source": [
    "import cirq\n",
    "import numpy as np\n",
    "\n",
    "def graph_state_circuit(num_qubits):\n",
    "    \"\"\"Returns a graph state circuit on num_qubits qubits\"\"\"\n",
    "    # Generate a random graph with num_qubits nodes\n",
    "    graph = nx.fast_gnp_random_graph(num_qubits, 0.5)\n",
    "\n",
    "    # Initialize the circuit with the given qubits\n",
    "    qubits = [cirq.LineQubit(i) for i in range(num_qubits)]\n",
    "    circuit = cirq.Circuit()\n",
    "\n",
    "    # Apply Hadamard gates to all qubits\n",
    "    circuit.append(cirq.H.on_each(qubits))\n",
    "\n",
    "    # Apply random controlled unitary gates to each edge\n",
    "    for edge in graph.edges():\n",
    "        control_qubit, target_qubit = qubits[edge[0]], qubits[edge[1]]\n",
    "\n",
    "        # Generate a random unitary matrix\n",
    "        random_unitary = cirq.testing.random_unitary(2)\n",
    "\n",
    "        # Apply the controlled random unitary gate to the circuit\n",
    "        circuit.append(cirq.ControlledGate(cirq.MatrixGate(random_unitary)).on(control_qubit, target_qubit))\n",
    "\n",
    "        \n",
    "    # Define number of qubits in circuit\n",
    "    circuit.num_qubits = len(circuit.all_qubits())\n",
    "\n",
    "    \n",
    "    return circuit"
   ]
  },
  {
   "cell_type": "code",
   "execution_count": 5,
   "id": "6c575eae-bdcc-43c6-9646-2fcf3a3f01ad",
   "metadata": {},
   "outputs": [
    {
     "data": {
      "text/html": [
       "<pre style=\"overflow: auto; white-space: pre;\">          ┌────────────────────────────────────────────────────────┐\n",
       "0: ───H────@───────────────────────────────────────────────────────────────────────────────────────────────────────────────────────────\n",
       "           │\n",
       "1: ───H────┼──────────────────────────@────────────────────────────────@───────────────────────────────────────────────────────────────\n",
       "           │                          │                                │\n",
       "           │                          ┌                           ┐    │\n",
       "2: ───H────┼──────────────────────────│ 0.681-0.143j  0.043+0.717j│────┼───────────────────────────────@───────────────────────────────\n",
       "           │                          │ 0.158-0.701j -0.649-0.251j│    │                               │\n",
       "           │                          └                           ┘    │                               │\n",
       "           │                                                           │                               │\n",
       "           ┌                         ┐                                 ┌                           ┐   ┌                           ┐\n",
       "3: ───H────│0.578-0.795j 0.054+0.175j│─────────────────────────────────│-0.943-0.311j  0.103+0.061j│───│ 0.059-0.587j  0.376+0.715j│───\n",
       "           │0.018+0.182j 0.842+0.507j│                                 │-0.061+0.103j -0.676+0.727j│   │-0.758-0.278j -0.574+0.137j│\n",
       "           └                         ┘                                 └                           ┘   └                           ┘\n",
       "          └────────────────────────────────────────────────────────┘</pre>"
      ],
      "text/plain": [
       "          ┌────────────────────────────────────────────────────────┐\n",
       "0: ───H────@───────────────────────────────────────────────────────────────────────────────────────────────────────────────────────────\n",
       "           │\n",
       "1: ───H────┼──────────────────────────@────────────────────────────────@───────────────────────────────────────────────────────────────\n",
       "           │                          │                                │\n",
       "           │                          ┌                           ┐    │\n",
       "2: ───H────┼──────────────────────────│ 0.681-0.143j  0.043+0.717j│────┼───────────────────────────────@───────────────────────────────\n",
       "           │                          │ 0.158-0.701j -0.649-0.251j│    │                               │\n",
       "           │                          └                           ┘    │                               │\n",
       "           │                                                           │                               │\n",
       "           ┌                         ┐                                 ┌                           ┐   ┌                           ┐\n",
       "3: ───H────│0.578-0.795j 0.054+0.175j│─────────────────────────────────│-0.943-0.311j  0.103+0.061j│───│ 0.059-0.587j  0.376+0.715j│───\n",
       "           │0.018+0.182j 0.842+0.507j│                                 │-0.061+0.103j -0.676+0.727j│   │-0.758-0.278j -0.574+0.137j│\n",
       "           └                         ┘                                 └                           ┘   └                           ┘\n",
       "          └────────────────────────────────────────────────────────┘"
      ]
     },
     "execution_count": 5,
     "metadata": {},
     "output_type": "execute_result"
    }
   ],
   "source": [
    "num_qubits = 4\n",
    "circuit = graph_state_circuit(num_qubits)\n",
    "circuit"
   ]
  },
  {
   "cell_type": "code",
   "execution_count": null,
   "id": "e5f1246f-dca2-4ef2-8062-544c27a8e4be",
   "metadata": {},
   "outputs": [],
   "source": []
  }
 ],
 "metadata": {
  "kernelspec": {
   "display_name": "Python 3.8.5 64-bit ('anaconda3': virtualenv)",
   "language": "python",
   "name": "python385jvsc74a57bd0474c67ce7e36ad5731492349411c4ce02ca5c170a680b2d1efe1eb0325e35fe7"
  },
  "language_info": {
   "codemirror_mode": {
    "name": "ipython",
    "version": 3
   },
   "file_extension": ".py",
   "mimetype": "text/x-python",
   "name": "python",
   "nbconvert_exporter": "python",
   "pygments_lexer": "ipython3",
   "version": "3.9.13"
  }
 },
 "nbformat": 4,
 "nbformat_minor": 5
}
