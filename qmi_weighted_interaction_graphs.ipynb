{
 "cells": [
  {
   "cell_type": "markdown",
   "id": "4eef105f-9dff-44d3-82f5-184a204673d7",
   "metadata": {},
   "source": [
    "# Weighted Interaction Graphs from Quantum Mutual Information"
   ]
  },
  {
   "cell_type": "markdown",
   "id": "f90e6a30-84f1-42ce-aed3-9ba6a0e45e1d",
   "metadata": {},
   "source": [
    "First we create a circuit to use."
   ]
  },
  {
   "cell_type": "code",
   "execution_count": 2,
   "id": "668c5e2d-51f6-431e-a9ba-03939895abca",
   "metadata": {},
   "outputs": [
    {
     "data": {
      "text/html": [
       "<pre style=\"overflow: auto; white-space: pre;\">0: ───H───@───────\n",
       "          │\n",
       "1: ───H───X───@───\n",
       "              │\n",
       "2: ───H───────X───</pre>"
      ],
      "text/plain": [
       "0: ───H───@───────\n",
       "          │\n",
       "1: ───H───X───@───\n",
       "              │\n",
       "2: ───H───────X───"
      ]
     },
     "execution_count": 2,
     "metadata": {},
     "output_type": "execute_result"
    }
   ],
   "source": [
    "import cirq\n",
    "\n",
    "# Define a 3-qubit circuit\n",
    "circuit = cirq.Circuit()\n",
    "q0, q1, q2 = cirq.LineQubit.range(3)\n",
    "\n",
    "# Apply Hadamard gates to each qubit\n",
    "circuit.append([cirq.H(q0), cirq.H(q1), cirq.H(q2)])\n",
    "\n",
    "# Apply CNOT gates to create a GHZ state\n",
    "circuit.append([cirq.CNOT(q0, q1), cirq.CNOT(q1, q2)])\n",
    "\n",
    "circuit"
   ]
  },
  {
   "cell_type": "code",
   "execution_count": 3,
   "id": "e9f6f9e2-70dc-493d-8388-696d5d893469",
   "metadata": {},
   "outputs": [
    {
     "data": {
      "text/plain": [
       "array([[0.12499998+0.j, 0.12499998+0.j, 0.12499998+0.j, 0.12499998+0.j,\n",
       "        0.12499998+0.j, 0.12499998+0.j, 0.12499998+0.j, 0.12499998+0.j],\n",
       "       [0.12499998+0.j, 0.12499998+0.j, 0.12499998+0.j, 0.12499998+0.j,\n",
       "        0.12499998+0.j, 0.12499998+0.j, 0.12499998+0.j, 0.12499998+0.j],\n",
       "       [0.12499998+0.j, 0.12499998+0.j, 0.12499998+0.j, 0.12499998+0.j,\n",
       "        0.12499998+0.j, 0.12499998+0.j, 0.12499998+0.j, 0.12499998+0.j],\n",
       "       [0.12499998+0.j, 0.12499998+0.j, 0.12499998+0.j, 0.12499998+0.j,\n",
       "        0.12499998+0.j, 0.12499998+0.j, 0.12499998+0.j, 0.12499998+0.j],\n",
       "       [0.12499998+0.j, 0.12499998+0.j, 0.12499998+0.j, 0.12499998+0.j,\n",
       "        0.12499998+0.j, 0.12499998+0.j, 0.12499998+0.j, 0.12499998+0.j],\n",
       "       [0.12499998+0.j, 0.12499998+0.j, 0.12499998+0.j, 0.12499998+0.j,\n",
       "        0.12499998+0.j, 0.12499998+0.j, 0.12499998+0.j, 0.12499998+0.j],\n",
       "       [0.12499998+0.j, 0.12499998+0.j, 0.12499998+0.j, 0.12499998+0.j,\n",
       "        0.12499998+0.j, 0.12499998+0.j, 0.12499998+0.j, 0.12499998+0.j],\n",
       "       [0.12499998+0.j, 0.12499998+0.j, 0.12499998+0.j, 0.12499998+0.j,\n",
       "        0.12499998+0.j, 0.12499998+0.j, 0.12499998+0.j, 0.12499998+0.j]],\n",
       "      dtype=complex64)"
      ]
     },
     "execution_count": 3,
     "metadata": {},
     "output_type": "execute_result"
    }
   ],
   "source": [
    "rho = cirq.final_density_matrix(circuit)\n",
    "rho"
   ]
  },
  {
   "cell_type": "markdown",
   "id": "a3ffe337-0e36-42da-8c2a-7f1e0fbc73de",
   "metadata": {},
   "source": [
    "Next, we define the function that computes the matrix of quantum mutaual information values. "
   ]
  },
  {
   "cell_type": "code",
   "execution_count": 1,
   "id": "64fda5db-2bad-458b-9d13-5fa4f6e76580",
   "metadata": {},
   "outputs": [],
   "source": [
    "import numpy as np\n",
    "from qiskit.quantum_info import partial_trace, entropy, mutual_information\n",
    "\n",
    "\n",
    "def compute_mutual_information(rho):\n",
    "    \"\"\"\n",
    "    Computes the quantum mutual information for every pair of qubits in the input density matrix.\n",
    "\n",
    "    Args:\n",
    "        rho (numpy.ndarray): a 2^n x 2^n density matrix representing the state of n qubits.\n",
    "\n",
    "    Returns:\n",
    "        numpy.ndarray: an n x n matrix of quantum mutual information values, where element i,j gives the mutual\n",
    "        information between qubits i and j.\n",
    "    \"\"\"\n",
    "    # Determine the number of qubits n from the shape of rho.\n",
    "    n = int(np.log2(rho.shape[0]))\n",
    "\n",
    "    # Create an empty n x n matrix to store the mutual information.\n",
    "    mutual_information_matrix = np.zeros((n, n))\n",
    "\n",
    "    # Loop over all pairs of qubits (i, j).\n",
    "    for i in range(n):\n",
    "        for j in range(i+1, n):\n",
    "\n",
    "            # Define the indices of the qubits to trace out.\n",
    "            trace_indices = [k for k in range(n) if k != i and k != j]\n",
    "\n",
    "            # Trace out the other qubits to obtain the reduced density matrix of qubits i and j.\n",
    "            rho_ij = partial_trace(rho, trace_indices)\n",
    "\n",
    "            # Compute the von Neumann entropy of the reduced density matrix of qubit i.\n",
    "            entropy_i = entropy(partial_trace(rho_ij, [1]))\n",
    "\n",
    "            # Compute the von Neumann entropy of the reduced density matrix of qubit j.\n",
    "            entropy_j = entropy(partial_trace(rho_ij, [0]))\n",
    "\n",
    "            # Compute the mutual information between qubits i and j.\n",
    "            mutual_information_matrix[i,j] = entropy_i + entropy_j - entropy(rho_ij)\n",
    "\n",
    "    # Copy the upper triangular part of the matrix to the lower triangular part.\n",
    "    mutual_information_matrix += mutual_information_matrix.T - np.diag(mutual_information_matrix.diagonal())\n",
    "\n",
    "    return mutual_information_matrix\n"
   ]
  },
  {
   "cell_type": "code",
   "execution_count": 4,
   "id": "8708d13a-8e6e-4469-b520-cc030aa6df50",
   "metadata": {},
   "outputs": [
    {
     "data": {
      "text/plain": [
       "array([[0.00000000e+00, 2.57973951e-07, 2.57973951e-07],\n",
       "       [2.57973951e-07, 0.00000000e+00, 2.57973951e-07],\n",
       "       [2.57973951e-07, 2.57973951e-07, 0.00000000e+00]])"
      ]
     },
     "execution_count": 4,
     "metadata": {},
     "output_type": "execute_result"
    }
   ],
   "source": [
    "qmi = compute_mutual_information(rho)\n",
    "qmi"
   ]
  },
  {
   "cell_type": "code",
   "execution_count": 5,
   "id": "d044297d-152b-4c0c-93b0-eef4ea9fac07",
   "metadata": {},
   "outputs": [
    {
     "data": {
      "text/html": [
       "<pre style=\"overflow: auto; white-space: pre;\">0: ───H───@───────────\n",
       "          │\n",
       "1: ───H───X───@───────\n",
       "              │\n",
       "2: ───H───────X───@───\n",
       "                  │\n",
       "3: ───────────────X───</pre>"
      ],
      "text/plain": [
       "0: ───H───@───────────\n",
       "          │\n",
       "1: ───H───X───@───────\n",
       "              │\n",
       "2: ───H───────X───@───\n",
       "                  │\n",
       "3: ───────────────X───"
      ]
     },
     "execution_count": 5,
     "metadata": {},
     "output_type": "execute_result"
    }
   ],
   "source": [
    "import cirq\n",
    "\n",
    "# Define a 3-qubit circuit\n",
    "circuit2 = cirq.Circuit()\n",
    "q0, q1, q2, q3 = cirq.LineQubit.range(4)\n",
    "\n",
    "# Apply Hadamard gates to each qubit\n",
    "circuit2.append([cirq.H(q0), cirq.H(q1), cirq.H(q2)])\n",
    "\n",
    "# Apply CNOT gates to create a GHZ state\n",
    "circuit2.append([cirq.CNOT(q0, q1), cirq.CNOT(q1, q2), cirq.CNOT(q2, q3)])\n",
    "\n",
    "circuit2"
   ]
  },
  {
   "cell_type": "code",
   "execution_count": null,
   "id": "f5d99b9c-5461-4321-a064-f93be453e55b",
   "metadata": {},
   "outputs": [],
   "source": []
  }
 ],
 "metadata": {
  "kernelspec": {
   "display_name": "Python 3.8.5 64-bit ('anaconda3': virtualenv)",
   "language": "python",
   "name": "python385jvsc74a57bd0474c67ce7e36ad5731492349411c4ce02ca5c170a680b2d1efe1eb0325e35fe7"
  },
  "language_info": {
   "codemirror_mode": {
    "name": "ipython",
    "version": 3
   },
   "file_extension": ".py",
   "mimetype": "text/x-python",
   "name": "python",
   "nbconvert_exporter": "python",
   "pygments_lexer": "ipython3",
   "version": "3.9.13"
  }
 },
 "nbformat": 4,
 "nbformat_minor": 5
}
