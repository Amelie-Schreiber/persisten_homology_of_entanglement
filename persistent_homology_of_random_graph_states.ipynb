{
 "cells": [
  {
   "attachments": {},
   "cell_type": "markdown",
   "metadata": {},
   "source": [
    "# Persistent Homology of Random Graph States"
   ]
  },
  {
   "attachments": {},
   "cell_type": "markdown",
   "metadata": {},
   "source": [
    "It's very easy to modify the code from the notebook [Persistent Homology of Entanglement](https://github.com/Amelie-Schreiber/persistent_homology_of_entanglement/blob/main/persistent_homology_of_entanglement.ipynb) to handle arbitrary graphs with custom entangling gates using the [NetworkX Graph Generators](https://networkx.org/documentation/stable/reference/generators.html). Let's look at a few examples. Note, we should always have $0 \\leq M_{i,j} = S(\\rho_i) + S(\\rho_j) - S(\\rho_{i,j}) \\leq 2 \\ln(2)$ and $2 \\ln(2) \\geq D_{i,j} = 2\\ln(2) - M_{i,j} \\geq 0$ as the additive inverse quantum mutual information gives a distance metric $D_{i,j}$ between pairs of qubits with reduced density matrices $\\rho_i$ and $\\rho_i$. This is a distance metric that brings strongly entangled sites $(M \\to 2 \\ln 2)$ close together $(D \\to 0)$, while non-entangled sites $(M \\to 0)$ are far apart $(D \\to 2 \\ln 2)$. Beware, the computational complexity of computing mutual information between each pair of qubits explodes exponentially in the number of qubits for complete graphs. For sparser random graphs however, things are computationally less expensive. "
   ]
  },
  {
   "cell_type": "code",
   "execution_count": 1,
   "metadata": {},
   "outputs": [
    {
     "name": "stdout",
     "output_type": "stream",
     "text": [
      "\u001b[33mWARNING: Ignoring invalid distribution -atplotlib (/Users/amelieschreiber/anaconda3/lib/python3.10/site-packages)\u001b[0m\u001b[33m\n",
      "\u001b[0m\u001b[33mWARNING: Ignoring invalid distribution -atplotlib (/Users/amelieschreiber/anaconda3/lib/python3.10/site-packages)\u001b[0m\u001b[33m\n",
      "\u001b[0m\u001b[33mWARNING: Ignoring invalid distribution -atplotlib (/Users/amelieschreiber/anaconda3/lib/python3.10/site-packages)\u001b[0m\u001b[33m\n",
      "\u001b[0m\u001b[33mWARNING: Ignoring invalid distribution -atplotlib (/Users/amelieschreiber/anaconda3/lib/python3.10/site-packages)\u001b[0m\u001b[33m\n",
      "\u001b[0m\u001b[33mWARNING: Ignoring invalid distribution -atplotlib (/Users/amelieschreiber/anaconda3/lib/python3.10/site-packages)\u001b[0m\u001b[33m\n",
      "\u001b[0m\u001b[33mWARNING: Ignoring invalid distribution -atplotlib (/Users/amelieschreiber/anaconda3/lib/python3.10/site-packages)\u001b[0m\u001b[33m\n",
      "\u001b[0mNote: you may need to restart the kernel to use updated packages.\n"
     ]
    }
   ],
   "source": [
    "pip install cirq qiskit gudhi networkx matplotlib -q"
   ]
  },
  {
   "cell_type": "code",
   "execution_count": 2,
   "metadata": {},
   "outputs": [],
   "source": [
    "import networkx as nx\n",
    "import numpy as np\n",
    "from qiskit import QuantumCircuit, QuantumRegister\n",
    "from qiskit.extensions import UnitaryGate\n",
    "from qiskit.quantum_info.random import random_unitary\n",
    "\n",
    "def qiskit_graph_state_circuit(num_qubits):\n",
    "    \"\"\"Returns a graph state circuit on num_qubits qubits\"\"\"\n",
    "    # Generate a random graph with num_qubits nodes\n",
    "    graph = nx.gnp_random_graph(num_qubits, 0.5)\n",
    "\n",
    "    # Initialize the circuit with the given qubits\n",
    "    qubits = QuantumRegister(num_qubits)\n",
    "    circuit = QuantumCircuit(qubits)\n",
    "\n",
    "    # Apply Hadamard gates to all qubits\n",
    "    circuit.h(qubits)\n",
    "\n",
    "    # Apply random controlled unitary gates to each edge\n",
    "    for edge in graph.edges():\n",
    "        control_qubit, target_qubit = qubits[edge[0]], qubits[edge[1]]\n",
    "\n",
    "        # Generate a random unitary matrix\n",
    "        random_unitary_matrix = random_unitary(2).data\n",
    "\n",
    "        # Apply the controlled random unitary gate to the circuit\n",
    "        controlled_unitary_gate = UnitaryGate(random_unitary_matrix).control()\n",
    "        circuit.append(controlled_unitary_gate, [control_qubit, target_qubit])\n",
    "\n",
    "    # Define number of qubits in circuit\n",
    "    # circuit.num_qubits = len(circuit.qubits)\n",
    "\n",
    "    return circuit"
   ]
  },
  {
   "cell_type": "code",
   "execution_count": 3,
   "metadata": {},
   "outputs": [
    {
     "data": {
      "text/html": [
       "<pre style=\"word-wrap: normal;white-space: pre;background: #fff0;line-height: 1.1;font-family: &quot;Courier New&quot;,Courier,monospace\">      ┌───┐                                                                  »\n",
       "q0_0: ┤ H ├─────■─────────────────────■─────────────────────■────────────────»\n",
       "      ├───┤     │                     │                     │                »\n",
       "q0_1: ┤ H ├─────┼─────────────────────┼──────────■──────────┼──────────■─────»\n",
       "      ├───┤     │                     │          │          │          │     »\n",
       "q0_2: ┤ H ├─────┼──────────■──────────┼──────────┼──────────┼──────────┼─────»\n",
       "      ├───┤     │     ┌────┴────┐     │          │          │          │     »\n",
       "q0_3: ┤ H ├─────┼─────┤ Unitary ├─────┼──────────┼──────────┼──────────┼─────»\n",
       "      ├───┤┌────┴────┐└─────────┘     │     ┌────┴────┐     │          │     »\n",
       "q0_4: ┤ H ├┤ Unitary ├────────────────┼─────┤ Unitary ├─────┼──────────┼─────»\n",
       "      ├───┤└─────────┘           ┌────┴────┐└─────────┘     │     ┌────┴────┐»\n",
       "q0_5: ┤ H ├──────────────────────┤ Unitary ├────────────────┼─────┤ Unitary ├»\n",
       "      ├───┤                      └─────────┘           ┌────┴────┐└─────────┘»\n",
       "q0_6: ┤ H ├────────────────────────────────────────────┤ Unitary ├───────────»\n",
       "      └───┘                                            └─────────┘           »\n",
       "«                                                                        »\n",
       "«q0_0: ──────────────────────────────────────────────────────────────────»\n",
       "«                                                                        »\n",
       "«q0_1: ────────────────■─────────────────────────────────────────────────»\n",
       "«                      │                                                 »\n",
       "«q0_2: ─────■──────────┼──────────■──────────────────────────────────────»\n",
       "«           │          │          │                                      »\n",
       "«q0_3: ─────┼──────────┼──────────┼──────────■───────────────────────────»\n",
       "«      ┌────┴────┐     │          │          │                           »\n",
       "«q0_4: ┤ Unitary ├─────┼──────────┼──────────┼──────────■──────────■─────»\n",
       "«      └─────────┘     │     ┌────┴────┐┌────┴────┐┌────┴────┐     │     »\n",
       "«q0_5: ────────────────┼─────┤ Unitary ├┤ Unitary ├┤ Unitary ├─────┼─────»\n",
       "«                 ┌────┴────┐└─────────┘└─────────┘└─────────┘┌────┴────┐»\n",
       "«q0_6: ───────────┤ Unitary ├─────────────────────────────────┤ Unitary ├»\n",
       "«                 └─────────┘                                 └─────────┘»\n",
       "«                 \n",
       "«q0_0: ───────────\n",
       "«                 \n",
       "«q0_1: ───────────\n",
       "«                 \n",
       "«q0_2: ───────────\n",
       "«                 \n",
       "«q0_3: ───────────\n",
       "«                 \n",
       "«q0_4: ───────────\n",
       "«                 \n",
       "«q0_5: ─────■─────\n",
       "«      ┌────┴────┐\n",
       "«q0_6: ┤ Unitary ├\n",
       "«      └─────────┘</pre>"
      ],
      "text/plain": [
       "      ┌───┐                                                                  »\n",
       "q0_0: ┤ H ├─────■─────────────────────■─────────────────────■────────────────»\n",
       "      ├───┤     │                     │                     │                »\n",
       "q0_1: ┤ H ├─────┼─────────────────────┼──────────■──────────┼──────────■─────»\n",
       "      ├───┤     │                     │          │          │          │     »\n",
       "q0_2: ┤ H ├─────┼──────────■──────────┼──────────┼──────────┼──────────┼─────»\n",
       "      ├───┤     │     ┌────┴────┐     │          │          │          │     »\n",
       "q0_3: ┤ H ├─────┼─────┤ Unitary ├─────┼──────────┼──────────┼──────────┼─────»\n",
       "      ├───┤┌────┴────┐└─────────┘     │     ┌────┴────┐     │          │     »\n",
       "q0_4: ┤ H ├┤ Unitary ├────────────────┼─────┤ Unitary ├─────┼──────────┼─────»\n",
       "      ├───┤└─────────┘           ┌────┴────┐└─────────┘     │     ┌────┴────┐»\n",
       "q0_5: ┤ H ├──────────────────────┤ Unitary ├────────────────┼─────┤ Unitary ├»\n",
       "      ├───┤                      └─────────┘           ┌────┴────┐└─────────┘»\n",
       "q0_6: ┤ H ├────────────────────────────────────────────┤ Unitary ├───────────»\n",
       "      └───┘                                            └─────────┘           »\n",
       "«                                                                        »\n",
       "«q0_0: ──────────────────────────────────────────────────────────────────»\n",
       "«                                                                        »\n",
       "«q0_1: ────────────────■─────────────────────────────────────────────────»\n",
       "«                      │                                                 »\n",
       "«q0_2: ─────■──────────┼──────────■──────────────────────────────────────»\n",
       "«           │          │          │                                      »\n",
       "«q0_3: ─────┼──────────┼──────────┼──────────■───────────────────────────»\n",
       "«      ┌────┴────┐     │          │          │                           »\n",
       "«q0_4: ┤ Unitary ├─────┼──────────┼──────────┼──────────■──────────■─────»\n",
       "«      └─────────┘     │     ┌────┴────┐┌────┴────┐┌────┴────┐     │     »\n",
       "«q0_5: ────────────────┼─────┤ Unitary ├┤ Unitary ├┤ Unitary ├─────┼─────»\n",
       "«                 ┌────┴────┐└─────────┘└─────────┘└─────────┘┌────┴────┐»\n",
       "«q0_6: ───────────┤ Unitary ├─────────────────────────────────┤ Unitary ├»\n",
       "«                 └─────────┘                                 └─────────┘»\n",
       "«                 \n",
       "«q0_0: ───────────\n",
       "«                 \n",
       "«q0_1: ───────────\n",
       "«                 \n",
       "«q0_2: ───────────\n",
       "«                 \n",
       "«q0_3: ───────────\n",
       "«                 \n",
       "«q0_4: ───────────\n",
       "«                 \n",
       "«q0_5: ─────■─────\n",
       "«      ┌────┴────┐\n",
       "«q0_6: ┤ Unitary ├\n",
       "«      └─────────┘"
      ]
     },
     "execution_count": 3,
     "metadata": {},
     "output_type": "execute_result"
    }
   ],
   "source": [
    "num_qubits = 7\n",
    "circuit2 = qiskit_graph_state_circuit(num_qubits)\n",
    "circuit2.draw()"
   ]
  },
  {
   "attachments": {},
   "cell_type": "markdown",
   "metadata": {},
   "source": [
    "### Get the Density Matrix of the Circuit"
   ]
  },
  {
   "cell_type": "code",
   "execution_count": 4,
   "metadata": {},
   "outputs": [
    {
     "name": "stdout",
     "output_type": "stream",
     "text": [
      "DensityMatrix([[ 7.81250000e-03+0.00000000e+00j,\n",
      "                -1.52785352e-03+3.11037486e-03j,\n",
      "                 9.51622235e-03-2.25681874e-03j, ...,\n",
      "                -4.32681839e-04+4.52925599e-04j,\n",
      "                -4.67458295e-04+7.66223015e-04j,\n",
      "                -6.11362042e-04-1.95761849e-04j],\n",
      "               [-1.52785352e-03-3.11037486e-03j,\n",
      "                 1.53712232e-03+0.00000000e+00j,\n",
      "                -2.75954510e-03-3.34731908e-03j, ...,\n",
      "                 2.64939887e-04+8.36862391e-05j,\n",
      "                 3.96473422e-04+3.62616313e-05j,\n",
      "                 4.16229012e-05+2.81684551e-04j],\n",
      "               [ 9.51622235e-03+2.25681874e-03j,\n",
      "                -2.75954510e-03+3.34731908e-03j,\n",
      "                 1.22434200e-02+0.00000000e+00j, ...,\n",
      "                -6.57877449e-04+4.26707997e-04j,\n",
      "                -7.90740933e-04+7.98282233e-04j,\n",
      "                -6.88135439e-04-4.15058765e-04j],\n",
      "               ...,\n",
      "               [-4.32681839e-04-4.52925599e-04j,\n",
      "                 2.64939887e-04-8.36862391e-05j,\n",
      "                -6.57877449e-04-4.26707997e-04j, ...,\n",
      "                 5.02214621e-05+0.00000000e+00j,\n",
      "                 7.03107498e-05-1.53352903e-05j,\n",
      "                 2.25100416e-05+4.62853268e-05j],\n",
      "               [-4.67458295e-04-7.66223015e-04j,\n",
      "                 3.96473422e-04-3.62616313e-05j,\n",
      "                -7.90740933e-04-7.98282233e-04j, ...,\n",
      "                 7.03107498e-05+1.53352903e-05j,\n",
      "                 1.03118716e-04+0.00000000e+00j,\n",
      "                 1.73809950e-05+7.16736214e-05j],\n",
      "               [-6.11362042e-04+1.95761849e-04j,\n",
      "                 4.16229012e-05-2.81684551e-04j,\n",
      "                -6.88135439e-04+4.15058765e-04j, ...,\n",
      "                 2.25100416e-05-4.62853268e-05j,\n",
      "                 1.73809950e-05-7.16736214e-05j,\n",
      "                 5.27470397e-05+0.00000000e+00j]],\n",
      "              dims=(2, 2, 2, 2, 2, 2, 2))\n"
     ]
    }
   ],
   "source": [
    "from qiskit import QuantumCircuit, Aer, transpile\n",
    "from qiskit.quantum_info import DensityMatrix\n",
    "\n",
    "circuit = circuit2\n",
    "\n",
    "# Simulate the circuit using the statevector_simulator backend\n",
    "backend = Aer.get_backend('statevector_simulator')\n",
    "transpiled_circuit = transpile(circuit, backend)\n",
    "result = backend.run(transpiled_circuit).result()\n",
    "\n",
    "# Get the statevector from the result\n",
    "statevector = result.get_statevector()\n",
    "\n",
    "# Convert the statevector to a density matrix\n",
    "rho = DensityMatrix(statevector)\n",
    "\n",
    "# Print the density matrix\n",
    "print(rho)\n"
   ]
  },
  {
   "attachments": {},
   "cell_type": "markdown",
   "metadata": {},
   "source": [
    "### Compute the Distance Matrix Given by (Inverse) Quantum Mutual Information"
   ]
  },
  {
   "cell_type": "code",
   "execution_count": 5,
   "metadata": {},
   "outputs": [
    {
     "data": {
      "text/plain": [
       "array([[0.        , 1.17961839, 1.32730215, 1.36150832, 1.22630718,\n",
       "        1.31396598, 1.29593143],\n",
       "       [1.17961839, 0.        , 1.35353429, 1.3688994 , 1.28347807,\n",
       "        1.34606004, 1.23751841],\n",
       "       [1.32730215, 1.35353429, 0.        , 0.95774825, 1.28225938,\n",
       "        1.27335922, 1.28943709],\n",
       "       [1.36150832, 1.3688994 , 0.95774825, 0.        , 1.35257988,\n",
       "        1.3672413 , 1.3626532 ],\n",
       "       [1.22630718, 1.28347807, 1.28225938, 1.35257988, 0.        ,\n",
       "        1.32914145, 1.32327924],\n",
       "       [1.31396598, 1.34606004, 1.27335922, 1.3672413 , 1.32914145,\n",
       "        0.        , 0.96042361],\n",
       "       [1.29593143, 1.23751841, 1.28943709, 1.3626532 , 1.32327924,\n",
       "        0.96042361, 0.        ]])"
      ]
     },
     "execution_count": 5,
     "metadata": {},
     "output_type": "execute_result"
    }
   ],
   "source": [
    "import numpy as np\n",
    "from qiskit.quantum_info import partial_trace, entropy\n",
    "\n",
    "def compute_inverse_mutual_information(rho):\n",
    "    \"\"\"\n",
    "    Computes the inverse quantum mutual information for every pair of qubits in the input density matrix.\n",
    "\n",
    "    Args:\n",
    "        rho (DensityMatrix): a DensityMatrix object representing the state of n qubits.\n",
    "\n",
    "    Returns:\n",
    "        numpy.ndarray: an n x n matrix of inverse quantum mutual information values, where element i,j gives the inverse\n",
    "        mutual information between qubits i and j.\n",
    "    \"\"\"\n",
    "    # Convert the DensityMatrix to a numpy.ndarray\n",
    "    rho = rho.data\n",
    "\n",
    "    # Determine the number of qubits n from the shape of rho.\n",
    "    n = int(np.log2(rho.shape[0]))\n",
    "\n",
    "    # Create an empty n x n matrix to store the inverse mutual information.\n",
    "    inverse_mutual_information_matrix = np.zeros((n, n))\n",
    "\n",
    "    # Loop over all pairs of qubits (i, j).\n",
    "    for i in range(n):\n",
    "        for j in range(i+1, n):\n",
    "\n",
    "            # Define the indices of the qubits to trace out.\n",
    "            trace_indices = [k for k in range(n) if k != i and k != j]\n",
    "\n",
    "            # Trace out the other qubits to obtain the reduced density matrix of qubits i and j.\n",
    "            rho_ij = partial_trace(rho, trace_indices)\n",
    "\n",
    "            # Compute the von Neumann entropy of the reduced density matrix of qubit i.\n",
    "            entropy_i = entropy(partial_trace(rho_ij, [1]))\n",
    "\n",
    "            # Compute the von Neumann entropy of the reduced density matrix of qubit j.\n",
    "            entropy_j = entropy(partial_trace(rho_ij, [0]))\n",
    "\n",
    "            # Compute the mutual information between qubits i and j.\n",
    "            qmi = entropy_i + entropy_j - entropy(rho_ij)\n",
    "\n",
    "            # Compute the inverse mutual information between qubits i and j.\n",
    "            inverse_mutual_information_matrix[i, j] = 2 * np.log(2) - qmi\n",
    "\n",
    "    # Copy the upper triangular part of the matrix to the lower triangular part.\n",
    "    inverse_mutual_information_matrix += inverse_mutual_information_matrix.T - np.diag(inverse_mutual_information_matrix.diagonal())\n",
    "\n",
    "    return inverse_mutual_information_matrix\n",
    "\n",
    "qmi_distance_matrix = compute_inverse_mutual_information(rho)\n",
    "qmi_distance_matrix\n"
   ]
  },
  {
   "cell_type": "code",
   "execution_count": 6,
   "metadata": {},
   "outputs": [],
   "source": [
    "import gudhi as gd\n",
    "\n",
    "def persistent_homology(qmi_distance_matrix, dimension):\n",
    "    \"\"\"\n",
    "    Computes the persistent homology for the QMI distance matrix.\n",
    "\n",
    "    Args:\n",
    "        qmi_distance_matrix (numpy.ndarray): An n x n QMI distance matrix.\n",
    "        dimension (int): The maximum dimension for the simplices to compute persistent homology. Default is 1.\n",
    "\n",
    "    Returns:\n",
    "        list: A list of tuples representing the persistent homology. Each tuple contains two elements: the first\n",
    "        element is the dimension of the feature, and the second element is a tuple representing the birth and death\n",
    "        of the feature.\n",
    "    \"\"\"\n",
    "    # Create a Rips complex from the QMI distance matrix\n",
    "    rips_complex = gd.RipsComplex(distance_matrix=qmi_distance_matrix, max_edge_length= 2*np.log(2))\n",
    "\n",
    "    # Create a simplex tree from the Rips complex\n",
    "    simplex_tree = rips_complex.create_simplex_tree(max_dimension=dimension)\n",
    "\n",
    "    # Compute the persistent homology\n",
    "    persistence = simplex_tree.persistence(homology_coeff_field=5)\n",
    "\n",
    "    return persistence"
   ]
  },
  {
   "cell_type": "code",
   "execution_count": 7,
   "metadata": {},
   "outputs": [
    {
     "data": {
      "text/plain": [
       "[(1, (1.28225937980765, 1.3232792398458026)),\n",
       " (0, (0.0, inf)),\n",
       " (0, (0.0, 1.2733592170354082)),\n",
       " (0, (0.0, 1.2375184133178645)),\n",
       " (0, (0.0, 1.2263071798114071)),\n",
       " (0, (0.0, 1.1796183910889793)),\n",
       " (0, (0.0, 0.9604236128620343)),\n",
       " (0, (0.0, 0.9577482488858473))]"
      ]
     },
     "execution_count": 7,
     "metadata": {},
     "output_type": "execute_result"
    }
   ],
   "source": [
    "persistence = persistent_homology(qmi_distance_matrix, 2)\n",
    "persistence"
   ]
  },
  {
   "cell_type": "code",
   "execution_count": 8,
   "metadata": {},
   "outputs": [
    {
     "data": {
      "text/plain": [
       "<Axes: title={'center': 'Persistence diagram'}, xlabel='Birth', ylabel='Death'>"
      ]
     },
     "execution_count": 8,
     "metadata": {},
     "output_type": "execute_result"
    },
    {
     "data": {
      "image/png": "[encoded data removed]",
      "text/plain": [
       "<Figure size 640x480 with 1 Axes>"
      ]
     },
     "metadata": {},
     "output_type": "display_data"
    }
   ],
   "source": [
    "gd.plot_persistence_diagram(persistence)"
   ]
  },
  {
   "cell_type": "code",
   "execution_count": 9,
   "metadata": {},
   "outputs": [
    {
     "data": {
      "text/plain": [
       "<Axes: title={'center': 'Persistence barcode'}>"
      ]
     },
     "execution_count": 9,
     "metadata": {},
     "output_type": "execute_result"
    },
    {
     "data": {
      "image/png": "[encoded data removed]",
      "text/plain": [
       "<Figure size 640x480 with 1 Axes>"
      ]
     },
     "metadata": {},
     "output_type": "display_data"
    }
   ],
   "source": [
    "gd.plot_persistence_barcode(persistence)"
   ]
  },
  {
   "cell_type": "code",
   "execution_count": 10,
   "metadata": {},
   "outputs": [
    {
     "name": "stdout",
     "output_type": "stream",
     "text": [
      "\u001b[33mWARNING: Ignoring invalid distribution -atplotlib (/Users/amelieschreiber/anaconda3/lib/python3.10/site-packages)\u001b[0m\u001b[33m\n",
      "\u001b[0m\u001b[33mWARNING: Ignoring invalid distribution -atplotlib (/Users/amelieschreiber/anaconda3/lib/python3.10/site-packages)\u001b[0m\u001b[33m\n",
      "\u001b[0m\u001b[33mWARNING: Ignoring invalid distribution -atplotlib (/Users/amelieschreiber/anaconda3/lib/python3.10/site-packages)\u001b[0m\u001b[33m\n",
      "\u001b[0m\u001b[33mWARNING: Ignoring invalid distribution -atplotlib (/Users/amelieschreiber/anaconda3/lib/python3.10/site-packages)\u001b[0m\u001b[33m\n",
      "\u001b[0m\u001b[33mWARNING: Ignoring invalid distribution -atplotlib (/Users/amelieschreiber/anaconda3/lib/python3.10/site-packages)\u001b[0m\u001b[33m\n",
      "\u001b[0m\u001b[33mWARNING: Ignoring invalid distribution -atplotlib (/Users/amelieschreiber/anaconda3/lib/python3.10/site-packages)\u001b[0m\u001b[33m\n",
      "\u001b[0m"
     ]
    }
   ],
   "source": [
    "!pip install ipywidgets plotly -q"
   ]
  },
  {
   "cell_type": "code",
   "execution_count": 16,
   "metadata": {},
   "outputs": [
    {
     "data": {
      "application/vnd.jupyter.widget-view+json": {
       "model_id": "9269fefdb0df43f0a6298351a9666634",
       "version_major": 2,
       "version_minor": 0
      },
      "text/plain": [
       "interactive(children=(FloatSlider(value=0.0, description='Threshold', max=1.3862943611198906, step=0.01), Outp…"
      ]
     },
     "metadata": {},
     "output_type": "display_data"
    },
    {
     "data": {
      "application/vnd.plotly.v1+json": {
       "config": {
        "plotlyServerURL": "https://plot.ly"
       },
       "data": [
        {
         "marker": {
          "color": "red",
          "size": 8
         },
         "mode": "markers+text",
         "name": "Qubits",
         "text": [
          "0",
          "1",
          "2",
          "3",
          "4",
          "5",
          "6"
         ],
         "textfont": {
          "size": 12
         },
         "textposition": "top center",
         "type": "scatter3d",
         "x": [
          0.49533383599455605,
          0.36274095251153604,
          -0.6142820269711179,
          0.08659212140398422,
          -0.5497781793022063,
          -0.26654505508509496,
          0.48593835144834296
         ],
         "y": [
          0.5689120635004039,
          -0.19164039307020192,
          -0.48659046554009977,
          -0.8513600871465925,
          0.5962798181878425,
          0.19055191490323123,
          0.1738471491654168
         ],
         "z": [
          0.3433330404840348,
          0.7345384944804061,
          0.10426157700342681,
          -0.1300981967196938,
          0.2951604381568276,
          -0.7535543435999125,
          -0.593641009805089
         ]
        },
        {
         "line": {
          "color": "blue"
         },
         "mode": "lines",
         "showlegend": false,
         "type": "scatter3d",
         "x": [
          0.49533383599455605,
          0.36274095251153604
         ],
         "y": [
          0.5689120635004039,
          -0.19164039307020192
         ],
         "z": [
          0.3433330404840348,
          0.7345384944804061
         ]
        },
        {
         "line": {
          "color": "blue"
         },
         "mode": "lines",
         "showlegend": false,
         "type": "scatter3d",
         "x": [
          -0.6142820269711179,
          0.08659212140398422
         ],
         "y": [
          -0.48659046554009977,
          -0.8513600871465925
         ],
         "z": [
          0.10426157700342681,
          -0.1300981967196938
         ]
        },
        {
         "line": {
          "color": "blue"
         },
         "mode": "lines",
         "showlegend": false,
         "type": "scatter3d",
         "x": [
          -0.26654505508509496,
          0.48593835144834296
         ],
         "y": [
          0.19055191490323123,
          0.1738471491654168
         ],
         "z": [
          -0.7535543435999125,
          -0.593641009805089
         ]
        }
       ],
       "layout": {
        "margin": {
         "b": 0,
         "l": 0,
         "r": 0,
         "t": 0
        },
        "scene": {
         "xaxis": {
          "title": {
           "text": "X"
          }
         },
         "yaxis": {
          "title": {
           "text": "Y"
          }
         },
         "zaxis": {
          "title": {
           "text": "Z"
          }
         }
        },
        "template": {
         "data": {
          "bar": [
           {
            "error_x": {
             "color": "#2a3f5f"
            },
            "error_y": {
             "color": "#2a3f5f"
            },
            "marker": {
             "line": {
              "color": "#E5ECF6",
              "width": 0.5
             },
             "pattern": {
              "fillmode": "overlay",
              "size": 10,
              "solidity": 0.2
             }
            },
            "type": "bar"
           }
          ],
          "barpolar": [
           {
            "marker": {
             "line": {
              "color": "#E5ECF6",
              "width": 0.5
             },
             "pattern": {
              "fillmode": "overlay",
              "size": 10,
              "solidity": 0.2
             }
            },
            "type": "barpolar"
           }
          ],
          "carpet": [
           {
            "aaxis": {
             "endlinecolor": "#2a3f5f",
             "gridcolor": "white",
             "linecolor": "white",
             "minorgridcolor": "white",
             "startlinecolor": "#2a3f5f"
            },
            "baxis": {
             "endlinecolor": "#2a3f5f",
             "gridcolor": "white",
             "linecolor": "white",
             "minorgridcolor": "white",
             "startlinecolor": "#2a3f5f"
            },
            "type": "carpet"
           }
          ],
          "choropleth": [
           {
            "colorbar": {
             "outlinewidth": 0,
             "ticks": ""
            },
            "type": "choropleth"
           }
          ],
          "contour": [
           {
            "colorbar": {
             "outlinewidth": 0,
             "ticks": ""
            },
            "colorscale": [
             [
              0,
              "#0d0887"
             ],
             [
              0.1111111111111111,
              "#46039f"
             ],
             [
              0.2222222222222222,
              "#7201a8"
             ],
             [
              0.3333333333333333,
              "#9c179e"
             ],
             [
              0.4444444444444444,
              "#bd3786"
             ],
             [
              0.5555555555555556,
              "#d8576b"
             ],
             [
              0.6666666666666666,
              "#ed7953"
             ],
             [
              0.7777777777777778,
              "#fb9f3a"
             ],
             [
              0.8888888888888888,
              "#fdca26"
             ],
             [
              1,
              "#f0f921"
             ]
            ],
            "type": "contour"
           }
          ],
          "contourcarpet": [
           {
            "colorbar": {
             "outlinewidth": 0,
             "ticks": ""
            },
            "type": "contourcarpet"
           }
          ],
          "heatmap": [
           {
            "colorbar": {
             "outlinewidth": 0,
             "ticks": ""
            },
            "colorscale": [
             [
              0,
              "#0d0887"
             ],
             [
              0.1111111111111111,
              "#46039f"
             ],
             [
              0.2222222222222222,
              "#7201a8"
             ],
             [
              0.3333333333333333,
              "#9c179e"
             ],
             [
              0.4444444444444444,
              "#bd3786"
             ],
             [
              0.5555555555555556,
              "#d8576b"
             ],
             [
              0.6666666666666666,
              "#ed7953"
             ],
             [
              0.7777777777777778,
              "#fb9f3a"
             ],
             [
              0.8888888888888888,
              "#fdca26"
             ],
             [
              1,
              "#f0f921"
             ]
            ],
            "type": "heatmap"
           }
          ],
          "heatmapgl": [
           {
            "colorbar": {
             "outlinewidth": 0,
             "ticks": ""
            },
            "colorscale": [
             [
              0,
              "#0d0887"
             ],
             [
              0.1111111111111111,
              "#46039f"
             ],
             [
              0.2222222222222222,
              "#7201a8"
             ],
             [
              0.3333333333333333,
              "#9c179e"
             ],
             [
              0.4444444444444444,
              "#bd3786"
             ],
             [
              0.5555555555555556,
              "#d8576b"
             ],
             [
              0.6666666666666666,
              "#ed7953"
             ],
             [
              0.7777777777777778,
              "#fb9f3a"
             ],
             [
              0.8888888888888888,
              "#fdca26"
             ],
             [
              1,
              "#f0f921"
             ]
            ],
            "type": "heatmapgl"
           }
          ],
          "histogram": [
           {
            "marker": {
             "pattern": {
              "fillmode": "overlay",
              "size": 10,
              "solidity": 0.2
             }
            },
            "type": "histogram"
           }
          ],
          "histogram2d": [
           {
            "colorbar": {
             "outlinewidth": 0,
             "ticks": ""
            },
            "colorscale": [
             [
              0,
              "#0d0887"
             ],
             [
              0.1111111111111111,
              "#46039f"
             ],
             [
              0.2222222222222222,
              "#7201a8"
             ],
             [
              0.3333333333333333,
              "#9c179e"
             ],
             [
              0.4444444444444444,
              "#bd3786"
             ],
             [
              0.5555555555555556,
              "#d8576b"
             ],
             [
              0.6666666666666666,
              "#ed7953"
             ],
             [
              0.7777777777777778,
              "#fb9f3a"
             ],
             [
              0.8888888888888888,
              "#fdca26"
             ],
             [
              1,
              "#f0f921"
             ]
            ],
            "type": "histogram2d"
           }
          ],
          "histogram2dcontour": [
           {
            "colorbar": {
             "outlinewidth": 0,
             "ticks": ""
            },
            "colorscale": [
             [
              0,
              "#0d0887"
             ],
             [
              0.1111111111111111,
              "#46039f"
             ],
             [
              0.2222222222222222,
              "#7201a8"
             ],
             [
              0.3333333333333333,
              "#9c179e"
             ],
             [
              0.4444444444444444,
              "#bd3786"
             ],
             [
              0.5555555555555556,
              "#d8576b"
             ],
             [
              0.6666666666666666,
              "#ed7953"
             ],
             [
              0.7777777777777778,
              "#fb9f3a"
             ],
             [
              0.8888888888888888,
              "#fdca26"
             ],
             [
              1,
              "#f0f921"
             ]
            ],
            "type": "histogram2dcontour"
           }
          ],
          "mesh3d": [
           {
            "colorbar": {
             "outlinewidth": 0,
             "ticks": ""
            },
            "type": "mesh3d"
           }
          ],
          "parcoords": [
           {
            "line": {
             "colorbar": {
              "outlinewidth": 0,
              "ticks": ""
             }
            },
            "type": "parcoords"
           }
          ],
          "pie": [
           {
            "automargin": true,
            "type": "pie"
           }
          ],
          "scatter": [
           {
            "fillpattern": {
             "fillmode": "overlay",
             "size": 10,
             "solidity": 0.2
            },
            "type": "scatter"
           }
          ],
          "scatter3d": [
           {
            "line": {
             "colorbar": {
              "outlinewidth": 0,
              "ticks": ""
             }
            },
            "marker": {
             "colorbar": {
              "outlinewidth": 0,
              "ticks": ""
             }
            },
            "type": "scatter3d"
           }
          ],
          "scattercarpet": [
           {
            "marker": {
             "colorbar": {
              "outlinewidth": 0,
              "ticks": ""
             }
            },
            "type": "scattercarpet"
           }
          ],
          "scattergeo": [
           {
            "marker": {
             "colorbar": {
              "outlinewidth": 0,
              "ticks": ""
             }
            },
            "type": "scattergeo"
           }
          ],
          "scattergl": [
           {
            "marker": {
             "colorbar": {
              "outlinewidth": 0,
              "ticks": ""
             }
            },
            "type": "scattergl"
           }
          ],
          "scattermapbox": [
           {
            "marker": {
             "colorbar": {
              "outlinewidth": 0,
              "ticks": ""
             }
            },
            "type": "scattermapbox"
           }
          ],
          "scatterpolar": [
           {
            "marker": {
             "colorbar": {
              "outlinewidth": 0,
              "ticks": ""
             }
            },
            "type": "scatterpolar"
           }
          ],
          "scatterpolargl": [
           {
            "marker": {
             "colorbar": {
              "outlinewidth": 0,
              "ticks": ""
             }
            },
            "type": "scatterpolargl"
           }
          ],
          "scatterternary": [
           {
            "marker": {
             "colorbar": {
              "outlinewidth": 0,
              "ticks": ""
             }
            },
            "type": "scatterternary"
           }
          ],
          "surface": [
           {
            "colorbar": {
             "outlinewidth": 0,
             "ticks": ""
            },
            "colorscale": [
             [
              0,
              "#0d0887"
             ],
             [
              0.1111111111111111,
              "#46039f"
             ],
             [
              0.2222222222222222,
              "#7201a8"
             ],
             [
              0.3333333333333333,
              "#9c179e"
             ],
             [
              0.4444444444444444,
              "#bd3786"
             ],
             [
              0.5555555555555556,
              "#d8576b"
             ],
             [
              0.6666666666666666,
              "#ed7953"
             ],
             [
              0.7777777777777778,
              "#fb9f3a"
             ],
             [
              0.8888888888888888,
              "#fdca26"
             ],
             [
              1,
              "#f0f921"
             ]
            ],
            "type": "surface"
           }
          ],
          "table": [
           {
            "cells": {
             "fill": {
              "color": "#EBF0F8"
             },
             "line": {
              "color": "white"
             }
            },
            "header": {
             "fill": {
              "color": "#C8D4E3"
             },
             "line": {
              "color": "white"
             }
            },
            "type": "table"
           }
          ]
         },
         "layout": {
          "annotationdefaults": {
           "arrowcolor": "#2a3f5f",
           "arrowhead": 0,
           "arrowwidth": 1
          },
          "autotypenumbers": "strict",
          "coloraxis": {
           "colorbar": {
            "outlinewidth": 0,
            "ticks": ""
           }
          },
          "colorscale": {
           "diverging": [
            [
             0,
             "#8e0152"
            ],
            [
             0.1,
             "#c51b7d"
            ],
            [
             0.2,
             "#de77ae"
            ],
            [
             0.3,
             "#f1b6da"
            ],
            [
             0.4,
             "#fde0ef"
            ],
            [
             0.5,
             "#f7f7f7"
            ],
            [
             0.6,
             "#e6f5d0"
            ],
            [
             0.7,
             "#b8e186"
            ],
            [
             0.8,
             "#7fbc41"
            ],
            [
             0.9,
             "#4d9221"
            ],
            [
             1,
             "#276419"
            ]
           ],
           "sequential": [
            [
             0,
             "#0d0887"
            ],
            [
             0.1111111111111111,
             "#46039f"
            ],
            [
             0.2222222222222222,
             "#7201a8"
            ],
            [
             0.3333333333333333,
             "#9c179e"
            ],
            [
             0.4444444444444444,
             "#bd3786"
            ],
            [
             0.5555555555555556,
             "#d8576b"
            ],
            [
             0.6666666666666666,
             "#ed7953"
            ],
            [
             0.7777777777777778,
             "#fb9f3a"
            ],
            [
             0.8888888888888888,
             "#fdca26"
            ],
            [
             1,
             "#f0f921"
            ]
           ],
           "sequentialminus": [
            [
             0,
             "#0d0887"
            ],
            [
             0.1111111111111111,
             "#46039f"
            ],
            [
             0.2222222222222222,
             "#7201a8"
            ],
            [
             0.3333333333333333,
             "#9c179e"
            ],
            [
             0.4444444444444444,
             "#bd3786"
            ],
            [
             0.5555555555555556,
             "#d8576b"
            ],
            [
             0.6666666666666666,
             "#ed7953"
            ],
            [
             0.7777777777777778,
             "#fb9f3a"
            ],
            [
             0.8888888888888888,
             "#fdca26"
            ],
            [
             1,
             "#f0f921"
            ]
           ]
          },
          "colorway": [
           "#636efa",
           "#EF553B",
           "#00cc96",
           "#ab63fa",
           "#FFA15A",
           "#19d3f3",
           "#FF6692",
           "#B6E880",
           "#FF97FF",
           "#FECB52"
          ],
          "font": {
           "color": "#2a3f5f"
          },
          "geo": {
           "bgcolor": "white",
           "lakecolor": "white",
           "landcolor": "#E5ECF6",
           "showlakes": true,
           "showland": true,
           "subunitcolor": "white"
          },
          "hoverlabel": {
           "align": "left"
          },
          "hovermode": "closest",
          "mapbox": {
           "style": "light"
          },
          "paper_bgcolor": "white",
          "plot_bgcolor": "#E5ECF6",
          "polar": {
           "angularaxis": {
            "gridcolor": "white",
            "linecolor": "white",
            "ticks": ""
           },
           "bgcolor": "#E5ECF6",
           "radialaxis": {
            "gridcolor": "white",
            "linecolor": "white",
            "ticks": ""
           }
          },
          "scene": {
           "xaxis": {
            "backgroundcolor": "#E5ECF6",
            "gridcolor": "white",
            "gridwidth": 2,
            "linecolor": "white",
            "showbackground": true,
            "ticks": "",
            "zerolinecolor": "white"
           },
           "yaxis": {
            "backgroundcolor": "#E5ECF6",
            "gridcolor": "white",
            "gridwidth": 2,
            "linecolor": "white",
            "showbackground": true,
            "ticks": "",
            "zerolinecolor": "white"
           },
           "zaxis": {
            "backgroundcolor": "#E5ECF6",
            "gridcolor": "white",
            "gridwidth": 2,
            "linecolor": "white",
            "showbackground": true,
            "ticks": "",
            "zerolinecolor": "white"
           }
          },
          "shapedefaults": {
           "line": {
            "color": "#2a3f5f"
           }
          },
          "ternary": {
           "aaxis": {
            "gridcolor": "white",
            "linecolor": "white",
            "ticks": ""
           },
           "baxis": {
            "gridcolor": "white",
            "linecolor": "white",
            "ticks": ""
           },
           "bgcolor": "#E5ECF6",
           "caxis": {
            "gridcolor": "white",
            "linecolor": "white",
            "ticks": ""
           }
          },
          "title": {
           "x": 0.05
          },
          "xaxis": {
           "automargin": true,
           "gridcolor": "white",
           "linecolor": "white",
           "ticks": "",
           "title": {
            "standoff": 15
           },
           "zerolinecolor": "white",
           "zerolinewidth": 2
          },
          "yaxis": {
           "automargin": true,
           "gridcolor": "white",
           "linecolor": "white",
           "ticks": "",
           "title": {
            "standoff": 15
           },
           "zerolinecolor": "white",
           "zerolinewidth": 2
          }
         }
        }
       }
      }
     },
     "metadata": {},
     "output_type": "display_data"
    },
    {
     "data": {
      "text/plain": [
       "<function __main__.plot_simplicial_complex(threshold, qmi_distance_matrix, dimension)>"
      ]
     },
     "execution_count": 16,
     "metadata": {},
     "output_type": "execute_result"
    }
   ],
   "source": [
    "import plotly.graph_objects as go\n",
    "from ipywidgets import interact, FloatSlider, fixed\n",
    "import numpy as np\n",
    "from sklearn.manifold import MDS\n",
    "\n",
    "# Function to generate the simplicial complex for a given threshold value\n",
    "def get_simplices(threshold, qmi_distance_matrix, dimension):\n",
    "    # Get the indices of the edges that are below the threshold value\n",
    "    indices = np.argwhere(qmi_distance_matrix < threshold)\n",
    "\n",
    "    # Extract the edges below the threshold\n",
    "    edges = [(index[0], index[1]) for index in indices]\n",
    "\n",
    "    # Create a SimplexTree\n",
    "    simplex_tree = gd.SimplexTree()\n",
    "\n",
    "    # Add vertices\n",
    "    for i in range(qmi_distance_matrix.shape[0]):\n",
    "        simplex_tree.insert([i], 0)\n",
    "\n",
    "    # Add edges with their corresponding filtration values\n",
    "    for i, j in edges:\n",
    "        simplex_tree.insert([i, j], qmi_distance_matrix[i, j])\n",
    "\n",
    "    # Compute the persistence pairs\n",
    "    simplex_tree.persistence()\n",
    "\n",
    "    # Get the simplices in the simplicial complex\n",
    "    simplices = list(simplex_tree.get_skeleton(dimension))\n",
    "\n",
    "    return simplices\n",
    "\n",
    "def plot_simplicial_complex(threshold, qmi_distance_matrix, dimension):\n",
    "    # Perform multidimensional scaling (MDS) on the distance matrix\n",
    "    mds = MDS(n_components=3, dissimilarity='precomputed')\n",
    "    positions = mds.fit_transform(qmi_distance_matrix)\n",
    "\n",
    "    simplices = get_simplices(threshold, qmi_distance_matrix, dimension)\n",
    "\n",
    "    fig = go.Figure()\n",
    "\n",
    "    # Add qubit nodes to the plot\n",
    "    fig.add_trace(go.Scatter3d(x=positions[:, 0], y=positions[:, 1], z=positions[:, 2],\n",
    "                               mode='markers+text', marker=dict(size=8, color='red'), name='Qubits',\n",
    "                               text=[str(i) for i in range(qmi_distance_matrix.shape[0])],\n",
    "                               textposition='top center', textfont=dict(size=12)))\n",
    "\n",
    "    # Add edges to the plot\n",
    "    for simplex in simplices:\n",
    "        if len(simplex[0]) == 2:  # Check if the simplex is an edge\n",
    "            i, j = simplex[0]\n",
    "            fig.add_trace(go.Scatter3d(x=[positions[i, 0], positions[j, 0]],\n",
    "                                       y=[positions[i, 1], positions[j, 1]],\n",
    "                                       z=[positions[i, 2], positions[j, 2]],\n",
    "                                       mode='lines', line=dict(color='blue'), showlegend=False))\n",
    "\n",
    "    # Configure the 3D plot settings\n",
    "    fig.update_layout(scene=dict(xaxis_title='X', yaxis_title='Y', zaxis_title='Z'),\n",
    "                      margin=dict(l=0, r=0, b=0, t=0))\n",
    "\n",
    "    fig.show()\n",
    "\n",
    "# Create a slider widget for the threshold value\n",
    "slider = FloatSlider(min=0, max=2 * np.log(2), step=0.01, value=0, description='Threshold')\n",
    "\n",
    "# Display the interactive plot\n",
    "interact(plot_simplicial_complex, threshold=slider, qmi_distance_matrix=fixed(qmi_distance_matrix), dimension=fixed(2))\n"
   ]
  },
  {
   "cell_type": "code",
   "execution_count": null,
   "metadata": {},
   "outputs": [],
   "source": []
  }
 ],
 "metadata": {
  "kernelspec": {
   "display_name": "base",
   "language": "python",
   "name": "python3"
  },
  "language_info": {
   "codemirror_mode": {
    "name": "ipython",
    "version": 3
   },
   "file_extension": ".py",
   "mimetype": "text/x-python",
   "name": "python",
   "nbconvert_exporter": "python",
   "pygments_lexer": "ipython3",
   "version": "3.10.9"
  },
  "orig_nbformat": 4
 },
 "nbformat": 4,
 "nbformat_minor": 2
}
